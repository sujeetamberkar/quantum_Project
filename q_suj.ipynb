{
 "cells": [
  {
   "cell_type": "code",
   "execution_count": 7,
   "metadata": {},
   "outputs": [],
   "source": [
    "import torchvision\n",
    "import torchvision.transforms as transforms\n",
    "# Data Augmentations \n",
    "transform = transforms.Compose([\n",
    "    transforms.Grayscale(num_output_channels=1),\n",
    "    transforms.RandomHorizontalFlip(),\n",
    "    transforms.RandomRotation(10),\n",
    "    transforms.RandomAffine(degrees=0, translate=(0.1, 0.1)),\n",
    "    transforms.ToTensor(),\n",
    "    transforms.Normalize((0.5,), (0.5,))\n",
    "])"
   ]
  },
  {
   "cell_type": "code",
   "execution_count": 8,
   "metadata": {},
   "outputs": [],
   "source": [
    "# Creates a Quantum Neural Network (QNN) with 2 qubits\n",
    "from qiskit import QuantumCircuit\n",
    "from qiskit.circuit.library import ZZFeatureMap, RealAmplitudes\n",
    "from qiskit_machine_learning.connectors import TorchConnector\n",
    "from qiskit_machine_learning.neural_networks import EstimatorQNN\n",
    "from qiskit.primitives import Estimator\n",
    "\n",
    "def create_qnn():\n",
    "# # 2-qubit feature map for encoding 2 classical inputs\n",
    "    feature_map = ZZFeatureMap(2)\n",
    "\n",
    "# RealAmplitudes adds parameterized rotation gates that will be trained\n",
    "    ansatz = RealAmplitudes(2, reps=1)\n",
    "\n",
    "    qc = QuantumCircuit(2) # Create a quantum circuit\n",
    "    qc.compose(feature_map, inplace=True) # First encode the data\n",
    "    qc.compose(ansatz, inplace=True) # Then apply trainable gates\n",
    "\n",
    "    # Create estimator\n",
    "    estimator = Estimator()\n",
    "\n",
    "    # Create the Quantum Neural Network\n",
    "    qnn = EstimatorQNN(\n",
    "        circuit=qc,\n",
    "        input_params=feature_map.parameters,\n",
    "        weight_params=ansatz.parameters,\n",
    "        input_gradients=True,\n",
    "        estimator=estimator,\n",
    "    )\n",
    "    return qnn"
   ]
  },
  {
   "cell_type": "code",
   "execution_count": 9,
   "metadata": {},
   "outputs": [],
   "source": [
    "import torch.nn as nn\n",
    "import torch.nn.functional as F\n",
    "from torch import cat\n",
    "\n",
    "class QuantumHybridCNN(nn.Module):\n",
    "    def __init__(self, qnn):\n",
    "        super().__init__()\n",
    "        # 1st Convo layer\n",
    "        self.conv1 = nn.Conv2d(1, 2, kernel_size=5)\n",
    "        # Input: Takes one Greyscale image as Input\n",
    "        # Output:  2 feature maps\n",
    "        # Kernel: 5x5\n",
    "\n",
    "        # 2nd Convo layer\n",
    "        self.conv2 = nn.Conv2d(2, 16, kernel_size=5) #2nd Convo layer\n",
    "        # Input: 2 input channel\n",
    "        # Output:  16 feature maps\n",
    "        # Kernel: 5x5\n",
    "\n",
    "        # regularization : Drupout Layer\n",
    "        self.dropout = nn.Dropout2d()\n",
    "        \n",
    "        # 1st Fully connected layer:\n",
    "        # Flat Convolutional features (400) ---> 64 features\n",
    "        # converts convolutional features to dense representation\n",
    "        # For 32x32 CIFAR images, after convolutions and pooling we get 16x5x5=400 features\n",
    "        self.fc1 = nn.Linear(400, 64)\n",
    "\n",
    "        # 2nd Fully connected layer:\n",
    "        # 64 features ----> 2 features\n",
    "        self.fc2 = nn.Linear(64, 2)\n",
    "\n",
    "        # Quantum part\n",
    "        self.qnn = TorchConnector(qnn) #TorchConnector wraps the quantum circuit\n",
    "        \n",
    "\n",
    "        # 4th Fully Connected Layer:\n",
    "        # 1 feature ------> 2 features\n",
    "        self.fc3 = nn.Linear(1, 1)\n",
    "\n",
    "    def forward(self, x):\n",
    "\n",
    "        # 1st Layer\n",
    "        x = F.relu(self.conv1(x))# Relu Function\n",
    "        x = F.max_pool2d(x, 2)# Max Pooling\n",
    "\n",
    "        # 2nd Convv Layer \n",
    "        x = F.relu(self.conv2(x)) #ReLU activation\n",
    "        x = F.max_pool2d(x, 2) #Max Pooling\n",
    "\n",
    "        # dropout for regularization\n",
    "        x = self.dropout(x)\n",
    "        \n",
    "        # Flatten layer\n",
    "        # Flatten the 3D tensor to 1D for dense layers\n",
    "        x = x.view(x.shape[0], -1) # Shape becomes [batch_size, 400]\n",
    "\n",
    "        # 1st Fully connected layer:\n",
    "        x = F.relu(self.fc1(x))# ReLU\n",
    "\n",
    "        # 2nd Fully connected layer:\n",
    "        # prepares data for quantum circuit\n",
    "        x = self.fc2(x) # No activation\n",
    "\n",
    "        # 3rd Layer \n",
    "        # Quantum processing\n",
    "        # data passes through the quantum neural network\n",
    "        x = self.qnn(x)\n",
    "\n",
    "        # 4th Fully Connected Layer:\n",
    "        x = self.fc3(x)\n",
    "        \n",
    "        # Unlike the classical model's softmax, this creates [p, 1-p] directly\n",
    "        return cat((x, 1 - x), -1)"
   ]
  },
  {
   "cell_type": "code",
   "execution_count": 10,
   "metadata": {},
   "outputs": [
    {
     "name": "stderr",
     "output_type": "stream",
     "text": [
      "/var/folders/j5/xjgdn5n12cv8xt7g7_l1vp280000gn/T/ipykernel_2139/257468979.py:20: DeprecationWarning: The class ``qiskit.primitives.estimator.Estimator`` is deprecated as of qiskit 1.2. It will be removed no earlier than 3 months after the release date. All implementations of the `BaseEstimatorV1` interface have been deprecated in favor of their V2 counterparts. The V2 alternative for the `Estimator` class is `StatevectorEstimator`.\n",
      "  estimator = Estimator()\n",
      "/var/folders/j5/xjgdn5n12cv8xt7g7_l1vp280000gn/T/ipykernel_2139/257468979.py:23: DeprecationWarning: V1 Primitives are deprecated as of qiskit-machine-learning 0.8.0 and will be removed no sooner than 4 months after the release date. Use V2 primitives for continued compatibility and support.\n",
      "  qnn = EstimatorQNN(\n"
     ]
    },
    {
     "data": {
      "text/plain": [
       "==========================================================================================\n",
       "Layer (type:depth-idx)                   Output Shape              Param #\n",
       "==========================================================================================\n",
       "QuantumHybridCNN                         [1, 2]                    --\n",
       "├─Conv2d: 1-1                            [1, 2, 28, 28]            52\n",
       "├─Conv2d: 1-2                            [1, 16, 10, 10]           816\n",
       "├─Dropout2d: 1-3                         [1, 16, 5, 5]             --\n",
       "├─Linear: 1-4                            [1, 64]                   25,664\n",
       "├─Linear: 1-5                            [1, 2]                    130\n",
       "├─TorchConnector: 1-6                    [1, 1]                    4\n",
       "├─Linear: 1-7                            [1, 1]                    2\n",
       "==========================================================================================\n",
       "Total params: 26,668\n",
       "Trainable params: 26,668\n",
       "Non-trainable params: 0\n",
       "Total mult-adds (Units.MEGABYTES): 0.15\n",
       "==========================================================================================\n",
       "Input size (MB): 0.00\n",
       "Forward/backward pass size (MB): 0.03\n",
       "Params size (MB): 0.11\n",
       "Estimated Total Size (MB): 0.14\n",
       "=========================================================================================="
      ]
     },
     "execution_count": 10,
     "metadata": {},
     "output_type": "execute_result"
    }
   ],
   "source": [
    "from torchinfo import summary\n",
    "demo_qnn = create_qnn()\n",
    "demo_Model = QuantumHybridCNN(demo_qnn)\n",
    "summary(demo_Model, input_size=(1, 1, 32, 32))  # CIFAR-10 images: 32×32"
   ]
  },
  {
   "cell_type": "code",
   "execution_count": 11,
   "metadata": {},
   "outputs": [],
   "source": [
    "# Load CIFAR-10 dataset\n",
    "trainset = torchvision.datasets.CIFAR10(root='./data', train=True, download=True, transform=transform)\n",
    "testset = torchvision.datasets.CIFAR10(root='./data', train=False, download=True, transform=transform)\n"
   ]
  },
  {
   "cell_type": "code",
   "execution_count": 12,
   "metadata": {},
   "outputs": [
    {
     "name": "stdout",
     "output_type": "stream",
     "text": [
      "Number of combinations: 45\n"
     ]
    }
   ],
   "source": [
    "def generate_combinations(digits=10, length=2):\n",
    "    \"\"\"\n",
    "    Generate combinations of CIFAR-10\n",
    "    \"\"\"\n",
    "    result = []    \n",
    "    if length == 2:\n",
    "        for i in range(digits):\n",
    "            for j in range(i + 1, digits):\n",
    "                result.append([i, j])\n",
    "    else:\n",
    "        def backtrack(current_combination, start_index):\n",
    "            if len(current_combination) == length:\n",
    "                result.append(current_combination[:])\n",
    "                return\n",
    "            for i in range(start_index, digits):\n",
    "                current_combination.append(i)\n",
    "                backtrack(current_combination, i + 1)\n",
    "                current_combination.pop()\n",
    "        \n",
    "        backtrack([], 0)\n",
    "    \n",
    "    return result\n",
    "a = generate_combinations()\n",
    "print(f\"Number of combinations: {len(a)}\")"
   ]
  },
  {
   "cell_type": "code",
   "execution_count": 13,
   "metadata": {},
   "outputs": [],
   "source": [
    "import torch\n",
    "from sklearn.metrics import classification_report\n",
    "\n",
    "def evaluate(class_indices):\n",
    "    print(f\"\\n\\n=== Evaluating classes {class_indices} ===\")    \n",
    "# All Possible classes       \n",
    "    class_names = ['airplane', 'automobile', 'bird', 'cat', 'deer', 'dog', 'frog', 'horse', 'ship', 'truck']\n",
    "# Select Class     \n",
    "    selected_classes = [class_names[idx] for idx in class_indices]\n",
    "    print(f\"Selected classes: {selected_classes}\")\n",
    "\n",
    "# Training    \n",
    "# Filter data    \n",
    "    filtered_train_data = [(image, label) for image, label in trainset if label in class_indices]\n",
    "    filtered_train_images, filtered_train_labels = zip(*filtered_train_data)\n",
    "# Map labels to binary \n",
    "    filtered_train_labels = [0 if label == class_indices[0] else 1 for label in filtered_train_labels]\n",
    "\n",
    "# Testing \n",
    "# Filter data\n",
    "    filtered_test_data = [(image, label) for image, label in testset if label in class_indices]\n",
    "    filtered_test_images, filtered_test_labels = zip(*filtered_test_data)\n",
    "\n",
    "# Map labels to binary \n",
    "    filtered_test_labels = [0 if label == class_indices[0] else 1 for label in filtered_test_labels]\n",
    "\n",
    "# Create datasets and loaders\n",
    "    train_dataset = torch.utils.data.TensorDataset(\n",
    "        torch.stack(filtered_train_images),\n",
    "        torch.tensor(filtered_train_labels)\n",
    "        )\n",
    "\n",
    "    test_dataset = torch.utils.data.TensorDataset(\n",
    "        torch.stack(filtered_test_images),\n",
    "        torch.tensor(filtered_test_labels)\n",
    "    )\n",
    "\n",
    "    train_loader = torch.utils.data.DataLoader(train_dataset, batch_size=32, shuffle=True)\n",
    "    test_loader = torch.utils.data.DataLoader(test_dataset, batch_size=32, shuffle=False)\n",
    "    \n",
    "\n",
    "# Use the best available device to run \n",
    "# MPS for Mac, CUDA for NVIDIA GPU, or CPU    \n",
    "    device = torch.device(\"mps\" if torch.backends.mps.is_available() else \"cuda\" if torch.cuda.is_available() else \"cpu\")\n",
    "    print(f\"Using device: {device}\")\n",
    "    \n",
    "    # Create quantum circuit and model\n",
    "    qnn = create_qnn()\n",
    "    model = QuantumHybridCNN(qnn).to(device)\n",
    "\n",
    "    criterion = nn.NLLLoss() # loss function\n",
    "    optimizer = torch.optim.Adam(model.parameters(), lr=0.001) # optimizer\n",
    "    num_epochs = 10 # Number of Epochs\n",
    "\n",
    "    # Training of Model \n",
    "    model.train()\n",
    "    for epoch in range(num_epochs):\n",
    "        total_loss = []\n",
    "        for batch_idx, (data, target) in enumerate(train_loader):\n",
    "            # Move data to device\n",
    "            data, target = data.to(device), target.to(device)\n",
    "            # Zero gradients before backward pass\n",
    "            optimizer.zero_grad(set_to_none=True)\n",
    "\n",
    "            output = model(data) # Forward pass\n",
    "            loss = criterion(output, target) # Calculate loss\n",
    "            loss.backward() # Backward pass  \n",
    "            optimizer.step() # Update weights\n",
    "            total_loss.append(loss.item()) # Track loss\n",
    "        \n",
    "            # Track Progress:\n",
    "            if (batch_idx + 1) % 100 == 0:\n",
    "                print(f'Epoch [{epoch+1}/{num_epochs}] Batch [{batch_idx+1}/{len(train_loader)}] '\n",
    "                  f'Loss: {loss.item():.4f}')\n",
    "    \n",
    "        avg_loss = sum(total_loss) / len(total_loss)\n",
    "        print(f'Epoch [{epoch+1}/{num_epochs}], Average Loss: {avg_loss:.4f}')\n",
    "\n",
    "    print('Finished Training')\n",
    "    \n",
    "    def evaluate_model(model, test_loader, device): # Evaluate Model\n",
    "        model.eval()\n",
    "        true_labels = []\n",
    "        pred_labels = []\n",
    "    \n",
    "        with torch.no_grad():\n",
    "            for images, labels in test_loader:\n",
    "                images, labels = images.to(device), labels.to(device) # Get highest probability class\n",
    "                outputs = model(images)\n",
    "                _, predicted = torch.max(outputs, 1)\n",
    "                true_labels.extend(labels.cpu().numpy())\n",
    "                pred_labels.extend(predicted.cpu().numpy())\n",
    "    \n",
    "        \n",
    "        return classification_report(true_labels, pred_labels, target_names=selected_classes)\n",
    "    \n",
    "        \n",
    "        \n",
    "    # Evaluate and print model performance on test set    \n",
    "    print(\"\\nTest Set Performance:\")\n",
    "    a = evaluate_model(model, test_loader, device)\n",
    "    print(a)\n",
    "\n",
    "    # Evaluate and print model performance on training set\n",
    "    print(\"\\nTraining Set Performance:\")\n",
    "    b = evaluate_model(model, train_loader, device)\n",
    "    print(b)\n",
    "    \n",
    "    # Return both performance reports\n",
    "    return (a, b)"
   ]
  },
  {
   "cell_type": "code",
   "execution_count": 14,
   "metadata": {},
   "outputs": [
    {
     "name": "stdout",
     "output_type": "stream",
     "text": [
      "\n",
      "\n",
      "=== Evaluating classes [0, 1] ===\n",
      "Selected classes: ['airplane', 'automobile']\n",
      "Using device: mps\n"
     ]
    },
    {
     "name": "stderr",
     "output_type": "stream",
     "text": [
      "/var/folders/j5/xjgdn5n12cv8xt7g7_l1vp280000gn/T/ipykernel_2139/257468979.py:20: DeprecationWarning: The class ``qiskit.primitives.estimator.Estimator`` is deprecated as of qiskit 1.2. It will be removed no earlier than 3 months after the release date. All implementations of the `BaseEstimatorV1` interface have been deprecated in favor of their V2 counterparts. The V2 alternative for the `Estimator` class is `StatevectorEstimator`.\n",
      "  estimator = Estimator()\n",
      "/var/folders/j5/xjgdn5n12cv8xt7g7_l1vp280000gn/T/ipykernel_2139/257468979.py:23: DeprecationWarning: V1 Primitives are deprecated as of qiskit-machine-learning 0.8.0 and will be removed no sooner than 4 months after the release date. Use V2 primitives for continued compatibility and support.\n",
      "  qnn = EstimatorQNN(\n"
     ]
    },
    {
     "name": "stdout",
     "output_type": "stream",
     "text": [
      "Epoch [1/10] Batch [100/313] Loss: -0.6295\n",
      "Epoch [1/10] Batch [200/313] Loss: -0.8220\n",
      "Epoch [1/10] Batch [300/313] Loss: -0.9670\n",
      "Epoch [1/10], Average Loss: -0.8089\n",
      "Epoch [2/10] Batch [100/313] Loss: -1.0487\n",
      "Epoch [2/10] Batch [200/313] Loss: -1.1897\n",
      "Epoch [2/10] Batch [300/313] Loss: -1.3859\n",
      "Epoch [2/10], Average Loss: -1.1303\n",
      "Epoch [3/10] Batch [100/313] Loss: -1.2081\n",
      "Epoch [3/10] Batch [200/313] Loss: -1.3448\n",
      "Epoch [3/10] Batch [300/313] Loss: -1.0983\n",
      "Epoch [3/10], Average Loss: -1.4172\n",
      "Epoch [4/10] Batch [100/313] Loss: -1.6744\n",
      "Epoch [4/10] Batch [200/313] Loss: -1.4811\n",
      "Epoch [4/10] Batch [300/313] Loss: -2.0518\n",
      "Epoch [4/10], Average Loss: -1.6502\n",
      "Epoch [5/10] Batch [100/313] Loss: -1.9947\n",
      "Epoch [5/10] Batch [200/313] Loss: -2.0069\n",
      "Epoch [5/10] Batch [300/313] Loss: -2.0027\n",
      "Epoch [5/10], Average Loss: -1.8793\n",
      "Epoch [6/10] Batch [100/313] Loss: -1.9751\n",
      "Epoch [6/10] Batch [200/313] Loss: -1.7674\n",
      "Epoch [6/10] Batch [300/313] Loss: -2.5889\n",
      "Epoch [6/10], Average Loss: -2.0929\n",
      "Epoch [7/10] Batch [100/313] Loss: -2.2674\n",
      "Epoch [7/10] Batch [200/313] Loss: -2.7753\n",
      "Epoch [7/10] Batch [300/313] Loss: -2.8215\n",
      "Epoch [7/10], Average Loss: -2.3042\n",
      "Epoch [8/10] Batch [100/313] Loss: -1.8120\n",
      "Epoch [8/10] Batch [200/313] Loss: -3.0344\n",
      "Epoch [8/10] Batch [300/313] Loss: -3.1317\n",
      "Epoch [8/10], Average Loss: -2.5668\n",
      "Epoch [9/10] Batch [100/313] Loss: -2.5947\n",
      "Epoch [9/10] Batch [200/313] Loss: -2.5496\n",
      "Epoch [9/10] Batch [300/313] Loss: -2.2529\n",
      "Epoch [9/10], Average Loss: -2.8126\n",
      "Epoch [10/10] Batch [100/313] Loss: -2.6457\n",
      "Epoch [10/10] Batch [200/313] Loss: -3.4307\n",
      "Epoch [10/10] Batch [300/313] Loss: -2.9772\n",
      "Epoch [10/10], Average Loss: -3.0470\n",
      "Finished Training\n",
      "\n",
      "Test Set Performance:\n",
      "              precision    recall  f1-score   support\n",
      "\n",
      "    airplane       0.83      0.91      0.87      1000\n",
      "  automobile       0.90      0.81      0.85      1000\n",
      "\n",
      "    accuracy                           0.86      2000\n",
      "   macro avg       0.86      0.86      0.86      2000\n",
      "weighted avg       0.86      0.86      0.86      2000\n",
      "\n",
      "\n",
      "Training Set Performance:\n",
      "              precision    recall  f1-score   support\n",
      "\n",
      "    airplane       0.83      0.90      0.86      5000\n",
      "  automobile       0.89      0.81      0.85      5000\n",
      "\n",
      "    accuracy                           0.86     10000\n",
      "   macro avg       0.86      0.86      0.86     10000\n",
      "weighted avg       0.86      0.86      0.86     10000\n",
      "\n"
     ]
    },
    {
     "data": {
      "text/plain": [
       "('              precision    recall  f1-score   support\\n\\n    airplane       0.83      0.91      0.87      1000\\n  automobile       0.90      0.81      0.85      1000\\n\\n    accuracy                           0.86      2000\\n   macro avg       0.86      0.86      0.86      2000\\nweighted avg       0.86      0.86      0.86      2000\\n',\n",
       " '              precision    recall  f1-score   support\\n\\n    airplane       0.83      0.90      0.86      5000\\n  automobile       0.89      0.81      0.85      5000\\n\\n    accuracy                           0.86     10000\\n   macro avg       0.86      0.86      0.86     10000\\nweighted avg       0.86      0.86      0.86     10000\\n')"
      ]
     },
     "execution_count": 14,
     "metadata": {},
     "output_type": "execute_result"
    }
   ],
   "source": [
    "evaluate([0,1])"
   ]
  },
  {
   "cell_type": "code",
   "execution_count": null,
   "metadata": {},
   "outputs": [],
   "source": [
    "# evaluate([0,2])"
   ]
  },
  {
   "cell_type": "code",
   "execution_count": null,
   "metadata": {},
   "outputs": [],
   "source": [
    "# evaluate([0,3])"
   ]
  },
  {
   "cell_type": "code",
   "execution_count": null,
   "metadata": {},
   "outputs": [],
   "source": [
    "# evaluate([0,4])"
   ]
  },
  {
   "cell_type": "code",
   "execution_count": null,
   "metadata": {},
   "outputs": [],
   "source": [
    "# evaluate([0,5])"
   ]
  },
  {
   "cell_type": "code",
   "execution_count": null,
   "metadata": {},
   "outputs": [],
   "source": [
    "# evaluate([0,6])"
   ]
  },
  {
   "cell_type": "code",
   "execution_count": null,
   "metadata": {},
   "outputs": [],
   "source": [
    "# evaluate([0,7])"
   ]
  },
  {
   "cell_type": "code",
   "execution_count": null,
   "metadata": {},
   "outputs": [],
   "source": [
    "# evaluate([0,8])"
   ]
  },
  {
   "cell_type": "code",
   "execution_count": null,
   "metadata": {},
   "outputs": [],
   "source": [
    "# evaluate([0,9])"
   ]
  },
  {
   "cell_type": "code",
   "execution_count": null,
   "metadata": {},
   "outputs": [],
   "source": [
    "# evaluate([1,2])"
   ]
  },
  {
   "cell_type": "code",
   "execution_count": null,
   "metadata": {},
   "outputs": [],
   "source": [
    "# evaluate([1,3])"
   ]
  },
  {
   "cell_type": "code",
   "execution_count": null,
   "metadata": {},
   "outputs": [],
   "source": [
    "# evaluate([1,4])"
   ]
  },
  {
   "cell_type": "code",
   "execution_count": null,
   "metadata": {},
   "outputs": [],
   "source": [
    "# evaluate([1,5])"
   ]
  },
  {
   "cell_type": "code",
   "execution_count": null,
   "metadata": {},
   "outputs": [],
   "source": [
    "# evaluate([1,6])"
   ]
  },
  {
   "cell_type": "code",
   "execution_count": null,
   "metadata": {},
   "outputs": [],
   "source": [
    "# evaluate([1,7])"
   ]
  },
  {
   "cell_type": "code",
   "execution_count": null,
   "metadata": {},
   "outputs": [],
   "source": [
    "# evaluate([1,8])"
   ]
  },
  {
   "cell_type": "code",
   "execution_count": null,
   "metadata": {},
   "outputs": [],
   "source": [
    "# evaluate([1,9])"
   ]
  },
  {
   "cell_type": "code",
   "execution_count": null,
   "metadata": {},
   "outputs": [],
   "source": [
    "# evaluate([2,3])"
   ]
  },
  {
   "cell_type": "code",
   "execution_count": null,
   "metadata": {},
   "outputs": [],
   "source": [
    "# evaluate([2,4])"
   ]
  },
  {
   "cell_type": "code",
   "execution_count": 10,
   "metadata": {},
   "outputs": [
    {
     "name": "stdout",
     "output_type": "stream",
     "text": [
      "\n",
      "\n",
      "=== Evaluating classes [2, 5] ===\n",
      "Selected classes: ['bird', 'dog']\n",
      "Using device: mps\n"
     ]
    },
    {
     "name": "stderr",
     "output_type": "stream",
     "text": [
      "/var/folders/j5/xjgdn5n12cv8xt7g7_l1vp280000gn/T/ipykernel_8588/3371341144.py:15: DeprecationWarning: The class ``qiskit.primitives.estimator.Estimator`` is deprecated as of qiskit 1.2. It will be removed no earlier than 3 months after the release date. All implementations of the `BaseEstimatorV1` interface have been deprecated in favor of their V2 counterparts. The V2 alternative for the `Estimator` class is `StatevectorEstimator`.\n",
      "  estimator = Estimator()\n",
      "/var/folders/j5/xjgdn5n12cv8xt7g7_l1vp280000gn/T/ipykernel_8588/3371341144.py:16: DeprecationWarning: V1 Primitives are deprecated as of qiskit-machine-learning 0.8.0 and will be removed no sooner than 4 months after the release date. Use V2 primitives for continued compatibility and support.\n",
      "  qnn = EstimatorQNN(\n"
     ]
    },
    {
     "name": "stdout",
     "output_type": "stream",
     "text": [
      "Epoch [1/10] Batch [100/313] Loss: -0.6829\n",
      "Epoch [1/10] Batch [200/313] Loss: -0.6904\n",
      "Epoch [1/10] Batch [300/313] Loss: -0.6552\n",
      "Epoch [1/10], Average Loss: -0.5591\n",
      "Epoch [2/10] Batch [100/313] Loss: -0.5102\n",
      "Epoch [2/10] Batch [200/313] Loss: -0.5539\n",
      "Epoch [2/10] Batch [300/313] Loss: -0.7778\n",
      "Epoch [2/10], Average Loss: -0.6087\n",
      "Epoch [3/10] Batch [100/313] Loss: -0.8622\n",
      "Epoch [3/10] Batch [200/313] Loss: -1.0274\n",
      "Epoch [3/10] Batch [300/313] Loss: -0.7208\n",
      "Epoch [3/10], Average Loss: -0.7491\n",
      "Epoch [4/10] Batch [100/313] Loss: -0.8033\n",
      "Epoch [4/10] Batch [200/313] Loss: -1.0775\n",
      "Epoch [4/10] Batch [300/313] Loss: -1.0340\n",
      "Epoch [4/10], Average Loss: -0.8914\n",
      "Epoch [5/10] Batch [100/313] Loss: -0.7616\n",
      "Epoch [5/10] Batch [200/313] Loss: -1.3723\n",
      "Epoch [5/10] Batch [300/313] Loss: -1.2461\n",
      "Epoch [5/10], Average Loss: -1.0576\n",
      "Epoch [6/10] Batch [100/313] Loss: -1.2514\n",
      "Epoch [6/10] Batch [200/313] Loss: -1.1243\n",
      "Epoch [6/10] Batch [300/313] Loss: -1.2714\n",
      "Epoch [6/10], Average Loss: -1.2303\n",
      "Epoch [7/10] Batch [100/313] Loss: -0.7309\n",
      "Epoch [7/10] Batch [200/313] Loss: -1.6705\n",
      "Epoch [7/10] Batch [300/313] Loss: -1.2676\n",
      "Epoch [7/10], Average Loss: -1.4054\n",
      "Epoch [8/10] Batch [100/313] Loss: -0.6582\n",
      "Epoch [8/10] Batch [200/313] Loss: -1.8424\n",
      "Epoch [8/10] Batch [300/313] Loss: -2.2573\n",
      "Epoch [8/10], Average Loss: -1.5562\n",
      "Epoch [9/10] Batch [100/313] Loss: -1.7242\n",
      "Epoch [9/10] Batch [200/313] Loss: -1.3212\n",
      "Epoch [9/10] Batch [300/313] Loss: -1.7053\n",
      "Epoch [9/10], Average Loss: -1.6954\n",
      "Epoch [10/10] Batch [100/313] Loss: -1.7141\n",
      "Epoch [10/10] Batch [200/313] Loss: -1.8638\n",
      "Epoch [10/10] Batch [300/313] Loss: -1.5599\n",
      "Epoch [10/10], Average Loss: -1.8503\n",
      "Finished Training\n",
      "\n",
      "Test Set Performance:\n",
      "              precision    recall  f1-score   support\n",
      "\n",
      "        bird       0.72      0.61      0.66      1000\n",
      "         dog       0.66      0.76      0.71      1000\n",
      "\n",
      "    accuracy                           0.68      2000\n",
      "   macro avg       0.69      0.68      0.68      2000\n",
      "weighted avg       0.69      0.68      0.68      2000\n",
      "\n",
      "\n",
      "Training Set Performance:\n",
      "              precision    recall  f1-score   support\n",
      "\n",
      "        bird       0.73      0.64      0.68      5000\n",
      "         dog       0.68      0.76      0.72      5000\n",
      "\n",
      "    accuracy                           0.70     10000\n",
      "   macro avg       0.70      0.70      0.70     10000\n",
      "weighted avg       0.70      0.70      0.70     10000\n",
      "\n"
     ]
    },
    {
     "data": {
      "text/plain": [
       "('              precision    recall  f1-score   support\\n\\n        bird       0.72      0.61      0.66      1000\\n         dog       0.66      0.76      0.71      1000\\n\\n    accuracy                           0.68      2000\\n   macro avg       0.69      0.68      0.68      2000\\nweighted avg       0.69      0.68      0.68      2000\\n',\n",
       " '              precision    recall  f1-score   support\\n\\n        bird       0.73      0.64      0.68      5000\\n         dog       0.68      0.76      0.72      5000\\n\\n    accuracy                           0.70     10000\\n   macro avg       0.70      0.70      0.70     10000\\nweighted avg       0.70      0.70      0.70     10000\\n')"
      ]
     },
     "execution_count": 10,
     "metadata": {},
     "output_type": "execute_result"
    }
   ],
   "source": [
    "evaluate([2,5])"
   ]
  },
  {
   "cell_type": "code",
   "execution_count": 11,
   "metadata": {},
   "outputs": [
    {
     "name": "stdout",
     "output_type": "stream",
     "text": [
      "\n",
      "\n",
      "=== Evaluating classes [2, 6] ===\n",
      "Selected classes: ['bird', 'frog']\n",
      "Using device: mps\n"
     ]
    },
    {
     "name": "stderr",
     "output_type": "stream",
     "text": [
      "/var/folders/j5/xjgdn5n12cv8xt7g7_l1vp280000gn/T/ipykernel_8588/3371341144.py:15: DeprecationWarning: The class ``qiskit.primitives.estimator.Estimator`` is deprecated as of qiskit 1.2. It will be removed no earlier than 3 months after the release date. All implementations of the `BaseEstimatorV1` interface have been deprecated in favor of their V2 counterparts. The V2 alternative for the `Estimator` class is `StatevectorEstimator`.\n",
      "  estimator = Estimator()\n",
      "/var/folders/j5/xjgdn5n12cv8xt7g7_l1vp280000gn/T/ipykernel_8588/3371341144.py:16: DeprecationWarning: V1 Primitives are deprecated as of qiskit-machine-learning 0.8.0 and will be removed no sooner than 4 months after the release date. Use V2 primitives for continued compatibility and support.\n",
      "  qnn = EstimatorQNN(\n"
     ]
    },
    {
     "name": "stdout",
     "output_type": "stream",
     "text": [
      "Epoch [1/10] Batch [100/313] Loss: -0.5037\n",
      "Epoch [1/10] Batch [200/313] Loss: -0.4766\n",
      "Epoch [1/10] Batch [300/313] Loss: -0.5864\n",
      "Epoch [1/10], Average Loss: -0.5067\n",
      "Epoch [2/10] Batch [100/313] Loss: -0.4543\n",
      "Epoch [2/10] Batch [200/313] Loss: -0.5719\n",
      "Epoch [2/10] Batch [300/313] Loss: -0.4497\n",
      "Epoch [2/10], Average Loss: -0.5343\n",
      "Epoch [3/10] Batch [100/313] Loss: -0.5787\n",
      "Epoch [3/10] Batch [200/313] Loss: -0.7205\n",
      "Epoch [3/10] Batch [300/313] Loss: -0.7730\n",
      "Epoch [3/10], Average Loss: -0.5986\n",
      "Epoch [4/10] Batch [100/313] Loss: -0.8682\n",
      "Epoch [4/10] Batch [200/313] Loss: -0.8656\n",
      "Epoch [4/10] Batch [300/313] Loss: -0.7991\n",
      "Epoch [4/10], Average Loss: -0.8123\n",
      "Epoch [5/10] Batch [100/313] Loss: -0.9530\n",
      "Epoch [5/10] Batch [200/313] Loss: -0.9712\n",
      "Epoch [5/10] Batch [300/313] Loss: -1.3810\n",
      "Epoch [5/10], Average Loss: -1.0306\n",
      "Epoch [6/10] Batch [100/313] Loss: -1.0386\n",
      "Epoch [6/10] Batch [200/313] Loss: -1.7776\n",
      "Epoch [6/10] Batch [300/313] Loss: -1.7983\n",
      "Epoch [6/10], Average Loss: -1.2616\n",
      "Epoch [7/10] Batch [100/313] Loss: -1.4199\n",
      "Epoch [7/10] Batch [200/313] Loss: -1.6032\n",
      "Epoch [7/10] Batch [300/313] Loss: -1.5190\n",
      "Epoch [7/10], Average Loss: -1.5091\n",
      "Epoch [8/10] Batch [100/313] Loss: -2.3991\n",
      "Epoch [8/10] Batch [200/313] Loss: -2.0687\n",
      "Epoch [8/10] Batch [300/313] Loss: -2.3866\n",
      "Epoch [8/10], Average Loss: -1.8104\n",
      "Epoch [9/10] Batch [100/313] Loss: -2.1038\n",
      "Epoch [9/10] Batch [200/313] Loss: -1.6051\n",
      "Epoch [9/10] Batch [300/313] Loss: -2.3458\n",
      "Epoch [9/10], Average Loss: -2.0214\n",
      "Epoch [10/10] Batch [100/313] Loss: -2.3444\n",
      "Epoch [10/10] Batch [200/313] Loss: -0.5061\n",
      "Epoch [10/10] Batch [300/313] Loss: -1.6590\n",
      "Epoch [10/10], Average Loss: -2.2428\n",
      "Finished Training\n",
      "\n",
      "Test Set Performance:\n",
      "              precision    recall  f1-score   support\n",
      "\n",
      "        bird       0.50      0.83      0.62      1000\n",
      "        frog       0.48      0.15      0.23      1000\n",
      "\n",
      "    accuracy                           0.49      2000\n",
      "   macro avg       0.49      0.49      0.43      2000\n",
      "weighted avg       0.49      0.49      0.43      2000\n",
      "\n",
      "\n",
      "Training Set Performance:\n",
      "              precision    recall  f1-score   support\n",
      "\n",
      "        bird       0.50      0.84      0.63      5000\n",
      "        frog       0.49      0.16      0.24      5000\n",
      "\n",
      "    accuracy                           0.50     10000\n",
      "   macro avg       0.50      0.50      0.43     10000\n",
      "weighted avg       0.50      0.50      0.43     10000\n",
      "\n"
     ]
    },
    {
     "data": {
      "text/plain": [
       "('              precision    recall  f1-score   support\\n\\n        bird       0.50      0.83      0.62      1000\\n        frog       0.48      0.15      0.23      1000\\n\\n    accuracy                           0.49      2000\\n   macro avg       0.49      0.49      0.43      2000\\nweighted avg       0.49      0.49      0.43      2000\\n',\n",
       " '              precision    recall  f1-score   support\\n\\n        bird       0.50      0.84      0.63      5000\\n        frog       0.49      0.16      0.24      5000\\n\\n    accuracy                           0.50     10000\\n   macro avg       0.50      0.50      0.43     10000\\nweighted avg       0.50      0.50      0.43     10000\\n')"
      ]
     },
     "execution_count": 11,
     "metadata": {},
     "output_type": "execute_result"
    }
   ],
   "source": [
    "evaluate([2,6])"
   ]
  },
  {
   "cell_type": "code",
   "execution_count": 12,
   "metadata": {},
   "outputs": [
    {
     "name": "stdout",
     "output_type": "stream",
     "text": [
      "\n",
      "\n",
      "=== Evaluating classes [2, 7] ===\n",
      "Selected classes: ['bird', 'horse']\n",
      "Using device: mps\n"
     ]
    },
    {
     "name": "stderr",
     "output_type": "stream",
     "text": [
      "/var/folders/j5/xjgdn5n12cv8xt7g7_l1vp280000gn/T/ipykernel_8588/3371341144.py:15: DeprecationWarning: The class ``qiskit.primitives.estimator.Estimator`` is deprecated as of qiskit 1.2. It will be removed no earlier than 3 months after the release date. All implementations of the `BaseEstimatorV1` interface have been deprecated in favor of their V2 counterparts. The V2 alternative for the `Estimator` class is `StatevectorEstimator`.\n",
      "  estimator = Estimator()\n",
      "/var/folders/j5/xjgdn5n12cv8xt7g7_l1vp280000gn/T/ipykernel_8588/3371341144.py:16: DeprecationWarning: V1 Primitives are deprecated as of qiskit-machine-learning 0.8.0 and will be removed no sooner than 4 months after the release date. Use V2 primitives for continued compatibility and support.\n",
      "  qnn = EstimatorQNN(\n"
     ]
    },
    {
     "name": "stdout",
     "output_type": "stream",
     "text": [
      "Epoch [1/10] Batch [100/313] Loss: -0.7420\n",
      "Epoch [1/10] Batch [200/313] Loss: -0.6681\n",
      "Epoch [1/10] Batch [300/313] Loss: -0.8720\n",
      "Epoch [1/10], Average Loss: -0.7238\n",
      "Epoch [2/10] Batch [100/313] Loss: -1.2237\n",
      "Epoch [2/10] Batch [200/313] Loss: -1.0652\n",
      "Epoch [2/10] Batch [300/313] Loss: -1.2999\n",
      "Epoch [2/10], Average Loss: -1.0314\n",
      "Epoch [3/10] Batch [100/313] Loss: -1.0637\n",
      "Epoch [3/10] Batch [200/313] Loss: -1.2857\n",
      "Epoch [3/10] Batch [300/313] Loss: -1.3416\n",
      "Epoch [3/10], Average Loss: -1.2604\n",
      "Epoch [4/10] Batch [100/313] Loss: -1.6804\n",
      "Epoch [4/10] Batch [200/313] Loss: -1.5069\n",
      "Epoch [4/10] Batch [300/313] Loss: -1.9733\n",
      "Epoch [4/10], Average Loss: -1.4682\n",
      "Epoch [5/10] Batch [100/313] Loss: -1.0633\n",
      "Epoch [5/10] Batch [200/313] Loss: -2.0706\n",
      "Epoch [5/10] Batch [300/313] Loss: -2.0519\n",
      "Epoch [5/10], Average Loss: -1.6650\n",
      "Epoch [6/10] Batch [100/313] Loss: -2.1173\n",
      "Epoch [6/10] Batch [200/313] Loss: -1.9360\n",
      "Epoch [6/10] Batch [300/313] Loss: -1.0826\n",
      "Epoch [6/10], Average Loss: -1.8282\n",
      "Epoch [7/10] Batch [100/313] Loss: -1.6973\n",
      "Epoch [7/10] Batch [200/313] Loss: -2.1850\n",
      "Epoch [7/10] Batch [300/313] Loss: -1.9937\n",
      "Epoch [7/10], Average Loss: -2.0326\n",
      "Epoch [8/10] Batch [100/313] Loss: -2.9138\n",
      "Epoch [8/10] Batch [200/313] Loss: -1.8913\n",
      "Epoch [8/10] Batch [300/313] Loss: -2.1787\n",
      "Epoch [8/10], Average Loss: -2.2476\n",
      "Epoch [9/10] Batch [100/313] Loss: -2.4537\n",
      "Epoch [9/10] Batch [200/313] Loss: -3.1459\n",
      "Epoch [9/10] Batch [300/313] Loss: -2.5408\n",
      "Epoch [9/10], Average Loss: -2.4058\n",
      "Epoch [10/10] Batch [100/313] Loss: -2.5792\n",
      "Epoch [10/10] Batch [200/313] Loss: -2.0554\n",
      "Epoch [10/10] Batch [300/313] Loss: -3.6218\n",
      "Epoch [10/10], Average Loss: -2.5922\n",
      "Finished Training\n",
      "\n",
      "Test Set Performance:\n",
      "              precision    recall  f1-score   support\n",
      "\n",
      "        bird       0.79      0.74      0.77      1000\n",
      "       horse       0.76      0.80      0.78      1000\n",
      "\n",
      "    accuracy                           0.77      2000\n",
      "   macro avg       0.77      0.77      0.77      2000\n",
      "weighted avg       0.77      0.77      0.77      2000\n",
      "\n",
      "\n",
      "Training Set Performance:\n",
      "              precision    recall  f1-score   support\n",
      "\n",
      "        bird       0.82      0.79      0.80      5000\n",
      "       horse       0.80      0.82      0.81      5000\n",
      "\n",
      "    accuracy                           0.81     10000\n",
      "   macro avg       0.81      0.81      0.81     10000\n",
      "weighted avg       0.81      0.81      0.81     10000\n",
      "\n"
     ]
    },
    {
     "data": {
      "text/plain": [
       "('              precision    recall  f1-score   support\\n\\n        bird       0.79      0.74      0.77      1000\\n       horse       0.76      0.80      0.78      1000\\n\\n    accuracy                           0.77      2000\\n   macro avg       0.77      0.77      0.77      2000\\nweighted avg       0.77      0.77      0.77      2000\\n',\n",
       " '              precision    recall  f1-score   support\\n\\n        bird       0.82      0.79      0.80      5000\\n       horse       0.80      0.82      0.81      5000\\n\\n    accuracy                           0.81     10000\\n   macro avg       0.81      0.81      0.81     10000\\nweighted avg       0.81      0.81      0.81     10000\\n')"
      ]
     },
     "execution_count": 12,
     "metadata": {},
     "output_type": "execute_result"
    }
   ],
   "source": [
    "evaluate([2,7])"
   ]
  },
  {
   "cell_type": "code",
   "execution_count": 13,
   "metadata": {},
   "outputs": [
    {
     "name": "stdout",
     "output_type": "stream",
     "text": [
      "\n",
      "\n",
      "=== Evaluating classes [2, 8] ===\n",
      "Selected classes: ['bird', 'ship']\n",
      "Using device: mps\n"
     ]
    },
    {
     "name": "stderr",
     "output_type": "stream",
     "text": [
      "/var/folders/j5/xjgdn5n12cv8xt7g7_l1vp280000gn/T/ipykernel_8588/3371341144.py:15: DeprecationWarning: The class ``qiskit.primitives.estimator.Estimator`` is deprecated as of qiskit 1.2. It will be removed no earlier than 3 months after the release date. All implementations of the `BaseEstimatorV1` interface have been deprecated in favor of their V2 counterparts. The V2 alternative for the `Estimator` class is `StatevectorEstimator`.\n",
      "  estimator = Estimator()\n",
      "/var/folders/j5/xjgdn5n12cv8xt7g7_l1vp280000gn/T/ipykernel_8588/3371341144.py:16: DeprecationWarning: V1 Primitives are deprecated as of qiskit-machine-learning 0.8.0 and will be removed no sooner than 4 months after the release date. Use V2 primitives for continued compatibility and support.\n",
      "  qnn = EstimatorQNN(\n"
     ]
    },
    {
     "name": "stdout",
     "output_type": "stream",
     "text": [
      "Epoch [1/10] Batch [100/313] Loss: -0.9250\n",
      "Epoch [1/10] Batch [200/313] Loss: -0.7406\n",
      "Epoch [1/10] Batch [300/313] Loss: -0.7634\n",
      "Epoch [1/10], Average Loss: -0.7792\n",
      "Epoch [2/10] Batch [100/313] Loss: -1.1072\n",
      "Epoch [2/10] Batch [200/313] Loss: -1.1834\n",
      "Epoch [2/10] Batch [300/313] Loss: -0.9205\n",
      "Epoch [2/10], Average Loss: -1.0903\n",
      "Epoch [3/10] Batch [100/313] Loss: -1.4555\n",
      "Epoch [3/10] Batch [200/313] Loss: -0.7089\n",
      "Epoch [3/10] Batch [300/313] Loss: -1.3328\n",
      "Epoch [3/10], Average Loss: -1.3239\n",
      "Epoch [4/10] Batch [100/313] Loss: -1.5852\n",
      "Epoch [4/10] Batch [200/313] Loss: -1.3966\n",
      "Epoch [4/10] Batch [300/313] Loss: -1.3220\n",
      "Epoch [4/10], Average Loss: -1.5432\n",
      "Epoch [5/10] Batch [100/313] Loss: -2.2652\n",
      "Epoch [5/10] Batch [200/313] Loss: -2.6058\n",
      "Epoch [5/10] Batch [300/313] Loss: -2.2315\n",
      "Epoch [5/10], Average Loss: -1.7699\n",
      "Epoch [6/10] Batch [100/313] Loss: -2.3045\n",
      "Epoch [6/10] Batch [200/313] Loss: -2.0120\n",
      "Epoch [6/10] Batch [300/313] Loss: -2.3394\n",
      "Epoch [6/10], Average Loss: -2.0002\n",
      "Epoch [7/10] Batch [100/313] Loss: -1.9862\n",
      "Epoch [7/10] Batch [200/313] Loss: -2.6718\n",
      "Epoch [7/10] Batch [300/313] Loss: -2.8848\n",
      "Epoch [7/10], Average Loss: -2.2088\n",
      "Epoch [8/10] Batch [100/313] Loss: -2.8440\n",
      "Epoch [8/10] Batch [200/313] Loss: -2.9174\n",
      "Epoch [8/10] Batch [300/313] Loss: -2.6545\n",
      "Epoch [8/10], Average Loss: -2.4530\n",
      "Epoch [9/10] Batch [100/313] Loss: -2.0070\n",
      "Epoch [9/10] Batch [200/313] Loss: -1.0777\n",
      "Epoch [9/10] Batch [300/313] Loss: -3.7294\n",
      "Epoch [9/10], Average Loss: -2.6627\n",
      "Epoch [10/10] Batch [100/313] Loss: -2.7845\n",
      "Epoch [10/10] Batch [200/313] Loss: -3.1086\n",
      "Epoch [10/10] Batch [300/313] Loss: -3.1488\n",
      "Epoch [10/10], Average Loss: -2.8829\n",
      "Finished Training\n",
      "\n",
      "Test Set Performance:\n",
      "              precision    recall  f1-score   support\n",
      "\n",
      "        bird       0.87      0.82      0.84      1000\n",
      "        ship       0.83      0.87      0.85      1000\n",
      "\n",
      "    accuracy                           0.84      2000\n",
      "   macro avg       0.85      0.84      0.84      2000\n",
      "weighted avg       0.85      0.84      0.84      2000\n",
      "\n",
      "\n",
      "Training Set Performance:\n",
      "              precision    recall  f1-score   support\n",
      "\n",
      "        bird       0.87      0.84      0.86      5000\n",
      "        ship       0.85      0.88      0.86      5000\n",
      "\n",
      "    accuracy                           0.86     10000\n",
      "   macro avg       0.86      0.86      0.86     10000\n",
      "weighted avg       0.86      0.86      0.86     10000\n",
      "\n"
     ]
    },
    {
     "data": {
      "text/plain": [
       "('              precision    recall  f1-score   support\\n\\n        bird       0.87      0.82      0.84      1000\\n        ship       0.83      0.87      0.85      1000\\n\\n    accuracy                           0.84      2000\\n   macro avg       0.85      0.84      0.84      2000\\nweighted avg       0.85      0.84      0.84      2000\\n',\n",
       " '              precision    recall  f1-score   support\\n\\n        bird       0.87      0.84      0.86      5000\\n        ship       0.85      0.88      0.86      5000\\n\\n    accuracy                           0.86     10000\\n   macro avg       0.86      0.86      0.86     10000\\nweighted avg       0.86      0.86      0.86     10000\\n')"
      ]
     },
     "execution_count": 13,
     "metadata": {},
     "output_type": "execute_result"
    }
   ],
   "source": [
    "evaluate([2,8])"
   ]
  },
  {
   "cell_type": "code",
   "execution_count": 14,
   "metadata": {},
   "outputs": [
    {
     "name": "stdout",
     "output_type": "stream",
     "text": [
      "\n",
      "\n",
      "=== Evaluating classes [2, 9] ===\n",
      "Selected classes: ['bird', 'truck']\n",
      "Using device: mps\n"
     ]
    },
    {
     "name": "stderr",
     "output_type": "stream",
     "text": [
      "/var/folders/j5/xjgdn5n12cv8xt7g7_l1vp280000gn/T/ipykernel_8588/3371341144.py:15: DeprecationWarning: The class ``qiskit.primitives.estimator.Estimator`` is deprecated as of qiskit 1.2. It will be removed no earlier than 3 months after the release date. All implementations of the `BaseEstimatorV1` interface have been deprecated in favor of their V2 counterparts. The V2 alternative for the `Estimator` class is `StatevectorEstimator`.\n",
      "  estimator = Estimator()\n",
      "/var/folders/j5/xjgdn5n12cv8xt7g7_l1vp280000gn/T/ipykernel_8588/3371341144.py:16: DeprecationWarning: V1 Primitives are deprecated as of qiskit-machine-learning 0.8.0 and will be removed no sooner than 4 months after the release date. Use V2 primitives for continued compatibility and support.\n",
      "  qnn = EstimatorQNN(\n"
     ]
    },
    {
     "name": "stdout",
     "output_type": "stream",
     "text": [
      "Epoch [1/10] Batch [100/313] Loss: -0.6303\n",
      "Epoch [1/10] Batch [200/313] Loss: -1.0008\n",
      "Epoch [1/10] Batch [300/313] Loss: -0.9683\n",
      "Epoch [1/10], Average Loss: -0.8735\n",
      "Epoch [2/10] Batch [100/313] Loss: -1.2733\n",
      "Epoch [2/10] Batch [200/313] Loss: -1.4613\n",
      "Epoch [2/10] Batch [300/313] Loss: -1.7704\n",
      "Epoch [2/10], Average Loss: -1.2837\n",
      "Epoch [3/10] Batch [100/313] Loss: -1.6569\n",
      "Epoch [3/10] Batch [200/313] Loss: -1.7484\n",
      "Epoch [3/10] Batch [300/313] Loss: -1.5208\n",
      "Epoch [3/10], Average Loss: -1.6051\n",
      "Epoch [4/10] Batch [100/313] Loss: -1.5348\n",
      "Epoch [4/10] Batch [200/313] Loss: -1.7978\n",
      "Epoch [4/10] Batch [300/313] Loss: -1.8638\n",
      "Epoch [4/10], Average Loss: -1.8860\n",
      "Epoch [5/10] Batch [100/313] Loss: -1.6880\n",
      "Epoch [5/10] Batch [200/313] Loss: -2.4188\n",
      "Epoch [5/10] Batch [300/313] Loss: -2.9375\n",
      "Epoch [5/10], Average Loss: -2.1592\n",
      "Epoch [6/10] Batch [100/313] Loss: -2.7075\n",
      "Epoch [6/10] Batch [200/313] Loss: -2.0844\n",
      "Epoch [6/10] Batch [300/313] Loss: -2.1089\n",
      "Epoch [6/10], Average Loss: -2.4158\n",
      "Epoch [7/10] Batch [100/313] Loss: -2.6923\n",
      "Epoch [7/10] Batch [200/313] Loss: -2.4753\n",
      "Epoch [7/10] Batch [300/313] Loss: -2.6958\n",
      "Epoch [7/10], Average Loss: -2.6969\n",
      "Epoch [8/10] Batch [100/313] Loss: -3.3645\n",
      "Epoch [8/10] Batch [200/313] Loss: -3.7559\n",
      "Epoch [8/10] Batch [300/313] Loss: -2.7355\n",
      "Epoch [8/10], Average Loss: -2.9585\n",
      "Epoch [9/10] Batch [100/313] Loss: -3.0902\n",
      "Epoch [9/10] Batch [200/313] Loss: -3.9793\n",
      "Epoch [9/10] Batch [300/313] Loss: -3.6791\n",
      "Epoch [9/10], Average Loss: -3.2257\n",
      "Epoch [10/10] Batch [100/313] Loss: -4.1417\n",
      "Epoch [10/10] Batch [200/313] Loss: -2.9360\n",
      "Epoch [10/10] Batch [300/313] Loss: -3.0955\n",
      "Epoch [10/10], Average Loss: -3.4835\n",
      "Finished Training\n",
      "\n",
      "Test Set Performance:\n",
      "              precision    recall  f1-score   support\n",
      "\n",
      "        bird       0.88      0.86      0.87      1000\n",
      "       truck       0.86      0.88      0.87      1000\n",
      "\n",
      "    accuracy                           0.87      2000\n",
      "   macro avg       0.87      0.87      0.87      2000\n",
      "weighted avg       0.87      0.87      0.87      2000\n",
      "\n",
      "\n",
      "Training Set Performance:\n",
      "              precision    recall  f1-score   support\n",
      "\n",
      "        bird       0.90      0.89      0.89      5000\n",
      "       truck       0.89      0.90      0.89      5000\n",
      "\n",
      "    accuracy                           0.89     10000\n",
      "   macro avg       0.89      0.89      0.89     10000\n",
      "weighted avg       0.89      0.89      0.89     10000\n",
      "\n"
     ]
    },
    {
     "data": {
      "text/plain": [
       "('              precision    recall  f1-score   support\\n\\n        bird       0.88      0.86      0.87      1000\\n       truck       0.86      0.88      0.87      1000\\n\\n    accuracy                           0.87      2000\\n   macro avg       0.87      0.87      0.87      2000\\nweighted avg       0.87      0.87      0.87      2000\\n',\n",
       " '              precision    recall  f1-score   support\\n\\n        bird       0.90      0.89      0.89      5000\\n       truck       0.89      0.90      0.89      5000\\n\\n    accuracy                           0.89     10000\\n   macro avg       0.89      0.89      0.89     10000\\nweighted avg       0.89      0.89      0.89     10000\\n')"
      ]
     },
     "execution_count": 14,
     "metadata": {},
     "output_type": "execute_result"
    }
   ],
   "source": [
    "evaluate([2,9])"
   ]
  },
  {
   "cell_type": "code",
   "execution_count": 15,
   "metadata": {},
   "outputs": [
    {
     "name": "stdout",
     "output_type": "stream",
     "text": [
      "\n",
      "\n",
      "=== Evaluating classes [3, 4] ===\n",
      "Selected classes: ['cat', 'deer']\n",
      "Using device: mps\n"
     ]
    },
    {
     "name": "stderr",
     "output_type": "stream",
     "text": [
      "/var/folders/j5/xjgdn5n12cv8xt7g7_l1vp280000gn/T/ipykernel_8588/3371341144.py:15: DeprecationWarning: The class ``qiskit.primitives.estimator.Estimator`` is deprecated as of qiskit 1.2. It will be removed no earlier than 3 months after the release date. All implementations of the `BaseEstimatorV1` interface have been deprecated in favor of their V2 counterparts. The V2 alternative for the `Estimator` class is `StatevectorEstimator`.\n",
      "  estimator = Estimator()\n",
      "/var/folders/j5/xjgdn5n12cv8xt7g7_l1vp280000gn/T/ipykernel_8588/3371341144.py:16: DeprecationWarning: V1 Primitives are deprecated as of qiskit-machine-learning 0.8.0 and will be removed no sooner than 4 months after the release date. Use V2 primitives for continued compatibility and support.\n",
      "  qnn = EstimatorQNN(\n"
     ]
    },
    {
     "name": "stdout",
     "output_type": "stream",
     "text": [
      "Epoch [1/10] Batch [100/313] Loss: -0.8167\n",
      "Epoch [1/10] Batch [200/313] Loss: -0.1661\n",
      "Epoch [1/10] Batch [300/313] Loss: -0.6977\n",
      "Epoch [1/10], Average Loss: -0.5323\n",
      "Epoch [2/10] Batch [100/313] Loss: -0.7861\n",
      "Epoch [2/10] Batch [200/313] Loss: -0.6712\n",
      "Epoch [2/10] Batch [300/313] Loss: -0.7563\n",
      "Epoch [2/10], Average Loss: -0.6634\n",
      "Epoch [3/10] Batch [100/313] Loss: -1.0840\n",
      "Epoch [3/10] Batch [200/313] Loss: -0.8086\n",
      "Epoch [3/10] Batch [300/313] Loss: -0.8581\n",
      "Epoch [3/10], Average Loss: -0.8783\n",
      "Epoch [4/10] Batch [100/313] Loss: -1.0617\n",
      "Epoch [4/10] Batch [200/313] Loss: -0.9979\n",
      "Epoch [4/10] Batch [300/313] Loss: -0.9061\n",
      "Epoch [4/10], Average Loss: -1.0903\n",
      "Epoch [5/10] Batch [100/313] Loss: -1.2342\n",
      "Epoch [5/10] Batch [200/313] Loss: -1.4245\n",
      "Epoch [5/10] Batch [300/313] Loss: -1.3771\n",
      "Epoch [5/10], Average Loss: -1.2490\n",
      "Epoch [6/10] Batch [100/313] Loss: -1.4566\n",
      "Epoch [6/10] Batch [200/313] Loss: -1.5373\n",
      "Epoch [6/10] Batch [300/313] Loss: -1.5535\n",
      "Epoch [6/10], Average Loss: -1.4331\n",
      "Epoch [7/10] Batch [100/313] Loss: -2.0243\n",
      "Epoch [7/10] Batch [200/313] Loss: -2.2215\n",
      "Epoch [7/10] Batch [300/313] Loss: -1.5829\n",
      "Epoch [7/10], Average Loss: -1.5485\n",
      "Epoch [8/10] Batch [100/313] Loss: -1.5292\n",
      "Epoch [8/10] Batch [200/313] Loss: -2.3663\n",
      "Epoch [8/10] Batch [300/313] Loss: -1.6045\n",
      "Epoch [8/10], Average Loss: -1.7061\n",
      "Epoch [9/10] Batch [100/313] Loss: -1.5666\n",
      "Epoch [9/10] Batch [200/313] Loss: -1.3459\n",
      "Epoch [9/10] Batch [300/313] Loss: -1.6642\n",
      "Epoch [9/10], Average Loss: -1.8786\n",
      "Epoch [10/10] Batch [100/313] Loss: -1.7124\n",
      "Epoch [10/10] Batch [200/313] Loss: -1.4828\n",
      "Epoch [10/10] Batch [300/313] Loss: -2.7032\n",
      "Epoch [10/10], Average Loss: -2.0291\n",
      "Finished Training\n",
      "\n",
      "Test Set Performance:\n",
      "              precision    recall  f1-score   support\n",
      "\n",
      "         cat       0.76      0.60      0.67      1000\n",
      "        deer       0.67      0.81      0.73      1000\n",
      "\n",
      "    accuracy                           0.71      2000\n",
      "   macro avg       0.72      0.71      0.70      2000\n",
      "weighted avg       0.72      0.71      0.70      2000\n",
      "\n",
      "\n",
      "Training Set Performance:\n",
      "              precision    recall  f1-score   support\n",
      "\n",
      "         cat       0.77      0.63      0.69      5000\n",
      "        deer       0.69      0.81      0.74      5000\n",
      "\n",
      "    accuracy                           0.72     10000\n",
      "   macro avg       0.73      0.72      0.72     10000\n",
      "weighted avg       0.73      0.72      0.72     10000\n",
      "\n"
     ]
    },
    {
     "data": {
      "text/plain": [
       "('              precision    recall  f1-score   support\\n\\n         cat       0.76      0.60      0.67      1000\\n        deer       0.67      0.81      0.73      1000\\n\\n    accuracy                           0.71      2000\\n   macro avg       0.72      0.71      0.70      2000\\nweighted avg       0.72      0.71      0.70      2000\\n',\n",
       " '              precision    recall  f1-score   support\\n\\n         cat       0.77      0.63      0.69      5000\\n        deer       0.69      0.81      0.74      5000\\n\\n    accuracy                           0.72     10000\\n   macro avg       0.73      0.72      0.72     10000\\nweighted avg       0.73      0.72      0.72     10000\\n')"
      ]
     },
     "execution_count": 15,
     "metadata": {},
     "output_type": "execute_result"
    }
   ],
   "source": [
    "evaluate([3,4])"
   ]
  },
  {
   "cell_type": "code",
   "execution_count": 16,
   "metadata": {},
   "outputs": [
    {
     "name": "stdout",
     "output_type": "stream",
     "text": [
      "\n",
      "\n",
      "=== Evaluating classes [3, 5] ===\n",
      "Selected classes: ['cat', 'dog']\n",
      "Using device: mps\n"
     ]
    },
    {
     "name": "stderr",
     "output_type": "stream",
     "text": [
      "/var/folders/j5/xjgdn5n12cv8xt7g7_l1vp280000gn/T/ipykernel_8588/3371341144.py:15: DeprecationWarning: The class ``qiskit.primitives.estimator.Estimator`` is deprecated as of qiskit 1.2. It will be removed no earlier than 3 months after the release date. All implementations of the `BaseEstimatorV1` interface have been deprecated in favor of their V2 counterparts. The V2 alternative for the `Estimator` class is `StatevectorEstimator`.\n",
      "  estimator = Estimator()\n",
      "/var/folders/j5/xjgdn5n12cv8xt7g7_l1vp280000gn/T/ipykernel_8588/3371341144.py:16: DeprecationWarning: V1 Primitives are deprecated as of qiskit-machine-learning 0.8.0 and will be removed no sooner than 4 months after the release date. Use V2 primitives for continued compatibility and support.\n",
      "  qnn = EstimatorQNN(\n"
     ]
    },
    {
     "name": "stdout",
     "output_type": "stream",
     "text": [
      "Epoch [1/10] Batch [100/313] Loss: -0.5063\n",
      "Epoch [1/10] Batch [200/313] Loss: -0.4263\n",
      "Epoch [1/10] Batch [300/313] Loss: -0.5257\n",
      "Epoch [1/10], Average Loss: -0.5053\n",
      "Epoch [2/10] Batch [100/313] Loss: -0.5580\n",
      "Epoch [2/10] Batch [200/313] Loss: -0.4141\n",
      "Epoch [2/10] Batch [300/313] Loss: -0.4827\n",
      "Epoch [2/10], Average Loss: -0.5126\n",
      "Epoch [3/10] Batch [100/313] Loss: -0.5014\n",
      "Epoch [3/10] Batch [200/313] Loss: -0.5241\n",
      "Epoch [3/10] Batch [300/313] Loss: -0.4226\n",
      "Epoch [3/10], Average Loss: -0.5025\n",
      "Epoch [4/10] Batch [100/313] Loss: -0.2952\n",
      "Epoch [4/10] Batch [200/313] Loss: -0.5072\n",
      "Epoch [4/10] Batch [300/313] Loss: -0.5354\n",
      "Epoch [4/10], Average Loss: -0.5134\n",
      "Epoch [5/10] Batch [100/313] Loss: -0.5897\n",
      "Epoch [5/10] Batch [200/313] Loss: -0.5220\n",
      "Epoch [5/10] Batch [300/313] Loss: -0.3448\n",
      "Epoch [5/10], Average Loss: -0.5210\n",
      "Epoch [6/10] Batch [100/313] Loss: -0.4085\n",
      "Epoch [6/10] Batch [200/313] Loss: -0.5576\n",
      "Epoch [6/10] Batch [300/313] Loss: -0.5838\n",
      "Epoch [6/10], Average Loss: -0.5155\n",
      "Epoch [7/10] Batch [100/313] Loss: -0.5068\n",
      "Epoch [7/10] Batch [200/313] Loss: -0.5457\n",
      "Epoch [7/10] Batch [300/313] Loss: -0.5275\n",
      "Epoch [7/10], Average Loss: -0.5034\n",
      "Epoch [8/10] Batch [100/313] Loss: -0.6770\n",
      "Epoch [8/10] Batch [200/313] Loss: -0.4835\n",
      "Epoch [8/10] Batch [300/313] Loss: -0.5498\n",
      "Epoch [8/10], Average Loss: -0.5088\n",
      "Epoch [9/10] Batch [100/313] Loss: -0.6109\n",
      "Epoch [9/10] Batch [200/313] Loss: -0.4997\n",
      "Epoch [9/10] Batch [300/313] Loss: -0.4987\n",
      "Epoch [9/10], Average Loss: -0.5056\n",
      "Epoch [10/10] Batch [100/313] Loss: -0.5512\n",
      "Epoch [10/10] Batch [200/313] Loss: -0.4083\n",
      "Epoch [10/10] Batch [300/313] Loss: -0.4880\n",
      "Epoch [10/10], Average Loss: -0.5188\n",
      "Finished Training\n",
      "\n",
      "Test Set Performance:\n",
      "              precision    recall  f1-score   support\n",
      "\n",
      "         cat       0.49      0.35      0.41      1000\n",
      "         dog       0.49      0.63      0.55      1000\n",
      "\n",
      "    accuracy                           0.49      2000\n",
      "   macro avg       0.49      0.49      0.48      2000\n",
      "weighted avg       0.49      0.49      0.48      2000\n",
      "\n",
      "\n",
      "Training Set Performance:\n",
      "              precision    recall  f1-score   support\n",
      "\n",
      "         cat       0.49      0.34      0.40      5000\n",
      "         dog       0.49      0.64      0.56      5000\n",
      "\n",
      "    accuracy                           0.49     10000\n",
      "   macro avg       0.49      0.49      0.48     10000\n",
      "weighted avg       0.49      0.49      0.48     10000\n",
      "\n"
     ]
    },
    {
     "data": {
      "text/plain": [
       "('              precision    recall  f1-score   support\\n\\n         cat       0.49      0.35      0.41      1000\\n         dog       0.49      0.63      0.55      1000\\n\\n    accuracy                           0.49      2000\\n   macro avg       0.49      0.49      0.48      2000\\nweighted avg       0.49      0.49      0.48      2000\\n',\n",
       " '              precision    recall  f1-score   support\\n\\n         cat       0.49      0.34      0.40      5000\\n         dog       0.49      0.64      0.56      5000\\n\\n    accuracy                           0.49     10000\\n   macro avg       0.49      0.49      0.48     10000\\nweighted avg       0.49      0.49      0.48     10000\\n')"
      ]
     },
     "execution_count": 16,
     "metadata": {},
     "output_type": "execute_result"
    }
   ],
   "source": [
    "evaluate([3,5])"
   ]
  },
  {
   "cell_type": "code",
   "execution_count": 17,
   "metadata": {},
   "outputs": [
    {
     "name": "stdout",
     "output_type": "stream",
     "text": [
      "\n",
      "\n",
      "=== Evaluating classes [3, 6] ===\n",
      "Selected classes: ['cat', 'frog']\n",
      "Using device: mps\n"
     ]
    },
    {
     "name": "stderr",
     "output_type": "stream",
     "text": [
      "/var/folders/j5/xjgdn5n12cv8xt7g7_l1vp280000gn/T/ipykernel_8588/3371341144.py:15: DeprecationWarning: The class ``qiskit.primitives.estimator.Estimator`` is deprecated as of qiskit 1.2. It will be removed no earlier than 3 months after the release date. All implementations of the `BaseEstimatorV1` interface have been deprecated in favor of their V2 counterparts. The V2 alternative for the `Estimator` class is `StatevectorEstimator`.\n",
      "  estimator = Estimator()\n",
      "/var/folders/j5/xjgdn5n12cv8xt7g7_l1vp280000gn/T/ipykernel_8588/3371341144.py:16: DeprecationWarning: V1 Primitives are deprecated as of qiskit-machine-learning 0.8.0 and will be removed no sooner than 4 months after the release date. Use V2 primitives for continued compatibility and support.\n",
      "  qnn = EstimatorQNN(\n"
     ]
    },
    {
     "name": "stdout",
     "output_type": "stream",
     "text": [
      "Epoch [1/10] Batch [100/313] Loss: -0.4942\n",
      "Epoch [1/10] Batch [200/313] Loss: -0.5365\n",
      "Epoch [1/10] Batch [300/313] Loss: -0.7211\n",
      "Epoch [1/10], Average Loss: -0.5546\n",
      "Epoch [2/10] Batch [100/313] Loss: -0.7901\n",
      "Epoch [2/10] Batch [200/313] Loss: -0.8248\n",
      "Epoch [2/10] Batch [300/313] Loss: -0.7404\n",
      "Epoch [2/10], Average Loss: -0.7006\n",
      "Epoch [3/10] Batch [100/313] Loss: -0.7473\n",
      "Epoch [3/10] Batch [200/313] Loss: -1.1265\n",
      "Epoch [3/10] Batch [300/313] Loss: -1.1072\n",
      "Epoch [3/10], Average Loss: -0.8690\n",
      "Epoch [4/10] Batch [100/313] Loss: -1.4459\n",
      "Epoch [4/10] Batch [200/313] Loss: -0.9652\n",
      "Epoch [4/10] Batch [300/313] Loss: -0.7526\n",
      "Epoch [4/10], Average Loss: -1.0218\n",
      "Epoch [5/10] Batch [100/313] Loss: -1.3351\n",
      "Epoch [5/10] Batch [200/313] Loss: -1.4291\n",
      "Epoch [5/10] Batch [300/313] Loss: -1.7897\n",
      "Epoch [5/10], Average Loss: -1.1748\n",
      "Epoch [6/10] Batch [100/313] Loss: -1.1765\n",
      "Epoch [6/10] Batch [200/313] Loss: -0.9584\n",
      "Epoch [6/10] Batch [300/313] Loss: -1.3666\n",
      "Epoch [6/10], Average Loss: -1.3132\n",
      "Epoch [7/10] Batch [100/313] Loss: -1.7708\n",
      "Epoch [7/10] Batch [200/313] Loss: -1.5926\n",
      "Epoch [7/10] Batch [300/313] Loss: -1.0948\n",
      "Epoch [7/10], Average Loss: -1.5008\n",
      "Epoch [8/10] Batch [100/313] Loss: -0.8551\n",
      "Epoch [8/10] Batch [200/313] Loss: -1.4788\n",
      "Epoch [8/10] Batch [300/313] Loss: -1.5058\n",
      "Epoch [8/10], Average Loss: -1.6371\n",
      "Epoch [9/10] Batch [100/313] Loss: -2.1346\n",
      "Epoch [9/10] Batch [200/313] Loss: -1.6264\n",
      "Epoch [9/10] Batch [300/313] Loss: -2.2032\n",
      "Epoch [9/10], Average Loss: -1.8025\n",
      "Epoch [10/10] Batch [100/313] Loss: -1.6352\n",
      "Epoch [10/10] Batch [200/313] Loss: -1.9788\n",
      "Epoch [10/10] Batch [300/313] Loss: -1.7191\n",
      "Epoch [10/10], Average Loss: -1.9290\n",
      "Finished Training\n",
      "\n",
      "Test Set Performance:\n",
      "              precision    recall  f1-score   support\n",
      "\n",
      "         cat       0.68      0.76      0.72      1000\n",
      "        frog       0.73      0.65      0.68      1000\n",
      "\n",
      "    accuracy                           0.70      2000\n",
      "   macro avg       0.71      0.70      0.70      2000\n",
      "weighted avg       0.71      0.70      0.70      2000\n",
      "\n",
      "\n",
      "Training Set Performance:\n",
      "              precision    recall  f1-score   support\n",
      "\n",
      "         cat       0.69      0.76      0.72      5000\n",
      "        frog       0.74      0.66      0.69      5000\n",
      "\n",
      "    accuracy                           0.71     10000\n",
      "   macro avg       0.71      0.71      0.71     10000\n",
      "weighted avg       0.71      0.71      0.71     10000\n",
      "\n"
     ]
    },
    {
     "data": {
      "text/plain": [
       "('              precision    recall  f1-score   support\\n\\n         cat       0.68      0.76      0.72      1000\\n        frog       0.73      0.65      0.68      1000\\n\\n    accuracy                           0.70      2000\\n   macro avg       0.71      0.70      0.70      2000\\nweighted avg       0.71      0.70      0.70      2000\\n',\n",
       " '              precision    recall  f1-score   support\\n\\n         cat       0.69      0.76      0.72      5000\\n        frog       0.74      0.66      0.69      5000\\n\\n    accuracy                           0.71     10000\\n   macro avg       0.71      0.71      0.71     10000\\nweighted avg       0.71      0.71      0.71     10000\\n')"
      ]
     },
     "execution_count": 17,
     "metadata": {},
     "output_type": "execute_result"
    }
   ],
   "source": [
    "evaluate([3,6])"
   ]
  },
  {
   "cell_type": "code",
   "execution_count": 18,
   "metadata": {},
   "outputs": [
    {
     "name": "stdout",
     "output_type": "stream",
     "text": [
      "\n",
      "\n",
      "=== Evaluating classes [3, 7] ===\n",
      "Selected classes: ['cat', 'horse']\n",
      "Using device: mps\n"
     ]
    },
    {
     "name": "stderr",
     "output_type": "stream",
     "text": [
      "/var/folders/j5/xjgdn5n12cv8xt7g7_l1vp280000gn/T/ipykernel_8588/3371341144.py:15: DeprecationWarning: The class ``qiskit.primitives.estimator.Estimator`` is deprecated as of qiskit 1.2. It will be removed no earlier than 3 months after the release date. All implementations of the `BaseEstimatorV1` interface have been deprecated in favor of their V2 counterparts. The V2 alternative for the `Estimator` class is `StatevectorEstimator`.\n",
      "  estimator = Estimator()\n",
      "/var/folders/j5/xjgdn5n12cv8xt7g7_l1vp280000gn/T/ipykernel_8588/3371341144.py:16: DeprecationWarning: V1 Primitives are deprecated as of qiskit-machine-learning 0.8.0 and will be removed no sooner than 4 months after the release date. Use V2 primitives for continued compatibility and support.\n",
      "  qnn = EstimatorQNN(\n"
     ]
    },
    {
     "name": "stdout",
     "output_type": "stream",
     "text": [
      "Epoch [1/10] Batch [100/313] Loss: -0.4308\n",
      "Epoch [1/10] Batch [200/313] Loss: -0.3761\n",
      "Epoch [1/10] Batch [300/313] Loss: -0.6392\n",
      "Epoch [1/10], Average Loss: -0.5251\n",
      "Epoch [2/10] Batch [100/313] Loss: -0.4498\n",
      "Epoch [2/10] Batch [200/313] Loss: -0.4705\n",
      "Epoch [2/10] Batch [300/313] Loss: -0.9003\n",
      "Epoch [2/10], Average Loss: -0.6360\n",
      "Epoch [3/10] Batch [100/313] Loss: -0.5250\n",
      "Epoch [3/10] Batch [200/313] Loss: -0.8817\n",
      "Epoch [3/10] Batch [300/313] Loss: -0.7641\n",
      "Epoch [3/10], Average Loss: -0.8595\n",
      "Epoch [4/10] Batch [100/313] Loss: -1.2005\n",
      "Epoch [4/10] Batch [200/313] Loss: -1.3486\n",
      "Epoch [4/10] Batch [300/313] Loss: -1.0219\n",
      "Epoch [4/10], Average Loss: -1.1113\n",
      "Epoch [5/10] Batch [100/313] Loss: -1.3106\n",
      "Epoch [5/10] Batch [200/313] Loss: -1.1546\n",
      "Epoch [5/10] Batch [300/313] Loss: -0.8319\n",
      "Epoch [5/10], Average Loss: -1.3125\n",
      "Epoch [6/10] Batch [100/313] Loss: -1.0914\n",
      "Epoch [6/10] Batch [200/313] Loss: -1.4568\n",
      "Epoch [6/10] Batch [300/313] Loss: -1.1949\n",
      "Epoch [6/10], Average Loss: -1.5260\n",
      "Epoch [7/10] Batch [100/313] Loss: -0.9959\n",
      "Epoch [7/10] Batch [200/313] Loss: -2.1013\n",
      "Epoch [7/10] Batch [300/313] Loss: -1.5393\n",
      "Epoch [7/10], Average Loss: -1.7221\n",
      "Epoch [8/10] Batch [100/313] Loss: -1.6744\n",
      "Epoch [8/10] Batch [200/313] Loss: -1.9870\n",
      "Epoch [8/10] Batch [300/313] Loss: -1.9735\n",
      "Epoch [8/10], Average Loss: -1.8837\n",
      "Epoch [9/10] Batch [100/313] Loss: -2.2602\n",
      "Epoch [9/10] Batch [200/313] Loss: -2.2829\n",
      "Epoch [9/10] Batch [300/313] Loss: -2.9661\n",
      "Epoch [9/10], Average Loss: -2.0788\n",
      "Epoch [10/10] Batch [100/313] Loss: -1.2948\n",
      "Epoch [10/10] Batch [200/313] Loss: -2.3256\n",
      "Epoch [10/10] Batch [300/313] Loss: -2.6348\n",
      "Epoch [10/10], Average Loss: -2.2178\n",
      "Finished Training\n",
      "\n",
      "Test Set Performance:\n",
      "              precision    recall  f1-score   support\n",
      "\n",
      "         cat       0.79      0.61      0.69      1000\n",
      "       horse       0.68      0.84      0.75      1000\n",
      "\n",
      "    accuracy                           0.72      2000\n",
      "   macro avg       0.74      0.72      0.72      2000\n",
      "weighted avg       0.74      0.72      0.72      2000\n",
      "\n",
      "\n",
      "Training Set Performance:\n",
      "              precision    recall  f1-score   support\n",
      "\n",
      "         cat       0.82      0.67      0.74      5000\n",
      "       horse       0.72      0.86      0.78      5000\n",
      "\n",
      "    accuracy                           0.76     10000\n",
      "   macro avg       0.77      0.76      0.76     10000\n",
      "weighted avg       0.77      0.76      0.76     10000\n",
      "\n"
     ]
    },
    {
     "data": {
      "text/plain": [
       "('              precision    recall  f1-score   support\\n\\n         cat       0.79      0.61      0.69      1000\\n       horse       0.68      0.84      0.75      1000\\n\\n    accuracy                           0.72      2000\\n   macro avg       0.74      0.72      0.72      2000\\nweighted avg       0.74      0.72      0.72      2000\\n',\n",
       " '              precision    recall  f1-score   support\\n\\n         cat       0.82      0.67      0.74      5000\\n       horse       0.72      0.86      0.78      5000\\n\\n    accuracy                           0.76     10000\\n   macro avg       0.77      0.76      0.76     10000\\nweighted avg       0.77      0.76      0.76     10000\\n')"
      ]
     },
     "execution_count": 18,
     "metadata": {},
     "output_type": "execute_result"
    }
   ],
   "source": [
    "evaluate([3,7])"
   ]
  },
  {
   "cell_type": "code",
   "execution_count": 19,
   "metadata": {},
   "outputs": [
    {
     "name": "stdout",
     "output_type": "stream",
     "text": [
      "\n",
      "\n",
      "=== Evaluating classes [3, 8] ===\n",
      "Selected classes: ['cat', 'ship']\n",
      "Using device: mps\n"
     ]
    },
    {
     "name": "stderr",
     "output_type": "stream",
     "text": [
      "/var/folders/j5/xjgdn5n12cv8xt7g7_l1vp280000gn/T/ipykernel_8588/3371341144.py:15: DeprecationWarning: The class ``qiskit.primitives.estimator.Estimator`` is deprecated as of qiskit 1.2. It will be removed no earlier than 3 months after the release date. All implementations of the `BaseEstimatorV1` interface have been deprecated in favor of their V2 counterparts. The V2 alternative for the `Estimator` class is `StatevectorEstimator`.\n",
      "  estimator = Estimator()\n",
      "/var/folders/j5/xjgdn5n12cv8xt7g7_l1vp280000gn/T/ipykernel_8588/3371341144.py:16: DeprecationWarning: V1 Primitives are deprecated as of qiskit-machine-learning 0.8.0 and will be removed no sooner than 4 months after the release date. Use V2 primitives for continued compatibility and support.\n",
      "  qnn = EstimatorQNN(\n"
     ]
    },
    {
     "name": "stdout",
     "output_type": "stream",
     "text": [
      "Epoch [1/10] Batch [100/313] Loss: -0.6063\n",
      "Epoch [1/10] Batch [200/313] Loss: -0.7114\n",
      "Epoch [1/10] Batch [300/313] Loss: -0.8125\n",
      "Epoch [1/10], Average Loss: -0.6871\n",
      "Epoch [2/10] Batch [100/313] Loss: -1.0141\n",
      "Epoch [2/10] Batch [200/313] Loss: -1.1032\n",
      "Epoch [2/10] Batch [300/313] Loss: -1.0887\n",
      "Epoch [2/10], Average Loss: -0.9419\n",
      "Epoch [3/10] Batch [100/313] Loss: -1.0686\n",
      "Epoch [3/10] Batch [200/313] Loss: -1.2213\n",
      "Epoch [3/10] Batch [300/313] Loss: -1.3934\n",
      "Epoch [3/10], Average Loss: -1.2024\n",
      "Epoch [4/10] Batch [100/313] Loss: -1.3666\n",
      "Epoch [4/10] Batch [200/313] Loss: -1.1149\n",
      "Epoch [4/10] Batch [300/313] Loss: -1.8342\n",
      "Epoch [4/10], Average Loss: -1.4644\n",
      "Epoch [5/10] Batch [100/313] Loss: -1.4655\n",
      "Epoch [5/10] Batch [200/313] Loss: -1.5200\n",
      "Epoch [5/10] Batch [300/313] Loss: -1.7059\n",
      "Epoch [5/10], Average Loss: -1.7113\n",
      "Epoch [6/10] Batch [100/313] Loss: -1.8159\n",
      "Epoch [6/10] Batch [200/313] Loss: -2.0864\n",
      "Epoch [6/10] Batch [300/313] Loss: -2.5282\n",
      "Epoch [6/10], Average Loss: -1.9634\n",
      "Epoch [7/10] Batch [100/313] Loss: -2.3194\n",
      "Epoch [7/10] Batch [200/313] Loss: -2.1147\n",
      "Epoch [7/10] Batch [300/313] Loss: -2.6268\n",
      "Epoch [7/10], Average Loss: -2.2183\n",
      "Epoch [8/10] Batch [100/313] Loss: -1.7190\n",
      "Epoch [8/10] Batch [200/313] Loss: -2.9858\n",
      "Epoch [8/10] Batch [300/313] Loss: -2.3110\n",
      "Epoch [8/10], Average Loss: -2.4573\n",
      "Epoch [9/10] Batch [100/313] Loss: -2.7763\n",
      "Epoch [9/10] Batch [200/313] Loss: -2.8144\n",
      "Epoch [9/10] Batch [300/313] Loss: -3.1978\n",
      "Epoch [9/10], Average Loss: -2.7257\n",
      "Epoch [10/10] Batch [100/313] Loss: -3.2907\n",
      "Epoch [10/10] Batch [200/313] Loss: -2.9695\n",
      "Epoch [10/10] Batch [300/313] Loss: -1.6158\n",
      "Epoch [10/10], Average Loss: -2.9605\n",
      "Finished Training\n",
      "\n",
      "Test Set Performance:\n",
      "              precision    recall  f1-score   support\n",
      "\n",
      "         cat       0.89      0.87      0.88      1000\n",
      "        ship       0.87      0.89      0.88      1000\n",
      "\n",
      "    accuracy                           0.88      2000\n",
      "   macro avg       0.88      0.88      0.88      2000\n",
      "weighted avg       0.88      0.88      0.88      2000\n",
      "\n",
      "\n",
      "Training Set Performance:\n",
      "              precision    recall  f1-score   support\n",
      "\n",
      "         cat       0.88      0.89      0.88      5000\n",
      "        ship       0.88      0.88      0.88      5000\n",
      "\n",
      "    accuracy                           0.88     10000\n",
      "   macro avg       0.88      0.88      0.88     10000\n",
      "weighted avg       0.88      0.88      0.88     10000\n",
      "\n"
     ]
    },
    {
     "data": {
      "text/plain": [
       "('              precision    recall  f1-score   support\\n\\n         cat       0.89      0.87      0.88      1000\\n        ship       0.87      0.89      0.88      1000\\n\\n    accuracy                           0.88      2000\\n   macro avg       0.88      0.88      0.88      2000\\nweighted avg       0.88      0.88      0.88      2000\\n',\n",
       " '              precision    recall  f1-score   support\\n\\n         cat       0.88      0.89      0.88      5000\\n        ship       0.88      0.88      0.88      5000\\n\\n    accuracy                           0.88     10000\\n   macro avg       0.88      0.88      0.88     10000\\nweighted avg       0.88      0.88      0.88     10000\\n')"
      ]
     },
     "execution_count": 19,
     "metadata": {},
     "output_type": "execute_result"
    }
   ],
   "source": [
    "evaluate([3,8])"
   ]
  },
  {
   "cell_type": "code",
   "execution_count": 20,
   "metadata": {},
   "outputs": [
    {
     "name": "stdout",
     "output_type": "stream",
     "text": [
      "\n",
      "\n",
      "=== Evaluating classes [3, 9] ===\n",
      "Selected classes: ['cat', 'truck']\n",
      "Using device: mps\n"
     ]
    },
    {
     "name": "stderr",
     "output_type": "stream",
     "text": [
      "/var/folders/j5/xjgdn5n12cv8xt7g7_l1vp280000gn/T/ipykernel_8588/3371341144.py:15: DeprecationWarning: The class ``qiskit.primitives.estimator.Estimator`` is deprecated as of qiskit 1.2. It will be removed no earlier than 3 months after the release date. All implementations of the `BaseEstimatorV1` interface have been deprecated in favor of their V2 counterparts. The V2 alternative for the `Estimator` class is `StatevectorEstimator`.\n",
      "  estimator = Estimator()\n",
      "/var/folders/j5/xjgdn5n12cv8xt7g7_l1vp280000gn/T/ipykernel_8588/3371341144.py:16: DeprecationWarning: V1 Primitives are deprecated as of qiskit-machine-learning 0.8.0 and will be removed no sooner than 4 months after the release date. Use V2 primitives for continued compatibility and support.\n",
      "  qnn = EstimatorQNN(\n"
     ]
    },
    {
     "name": "stdout",
     "output_type": "stream",
     "text": [
      "Epoch [1/10] Batch [100/313] Loss: -0.7485\n",
      "Epoch [1/10] Batch [200/313] Loss: -0.7518\n",
      "Epoch [1/10] Batch [300/313] Loss: -0.8109\n",
      "Epoch [1/10], Average Loss: -0.8093\n",
      "Epoch [2/10] Batch [100/313] Loss: -1.1341\n",
      "Epoch [2/10] Batch [200/313] Loss: -0.9674\n",
      "Epoch [2/10] Batch [300/313] Loss: -1.3052\n",
      "Epoch [2/10], Average Loss: -1.1420\n",
      "Epoch [3/10] Batch [100/313] Loss: -1.3257\n",
      "Epoch [3/10] Batch [200/313] Loss: -1.3748\n",
      "Epoch [3/10] Batch [300/313] Loss: -1.5811\n",
      "Epoch [3/10], Average Loss: -1.4162\n",
      "Epoch [4/10] Batch [100/313] Loss: -1.4170\n",
      "Epoch [4/10] Batch [200/313] Loss: -1.4049\n",
      "Epoch [4/10] Batch [300/313] Loss: -1.8542\n",
      "Epoch [4/10], Average Loss: -1.6970\n",
      "Epoch [5/10] Batch [100/313] Loss: -2.0426\n",
      "Epoch [5/10] Batch [200/313] Loss: -1.5577\n",
      "Epoch [5/10] Batch [300/313] Loss: -2.7406\n",
      "Epoch [5/10], Average Loss: -1.9240\n",
      "Epoch [6/10] Batch [100/313] Loss: -2.3392\n",
      "Epoch [6/10] Batch [200/313] Loss: -2.2555\n",
      "Epoch [6/10] Batch [300/313] Loss: -2.1500\n",
      "Epoch [6/10], Average Loss: -2.1898\n",
      "Epoch [7/10] Batch [100/313] Loss: -2.7091\n",
      "Epoch [7/10] Batch [200/313] Loss: -2.4567\n",
      "Epoch [7/10] Batch [300/313] Loss: -2.5297\n",
      "Epoch [7/10], Average Loss: -2.4270\n",
      "Epoch [8/10] Batch [100/313] Loss: -2.4157\n",
      "Epoch [8/10] Batch [200/313] Loss: -2.7950\n",
      "Epoch [8/10] Batch [300/313] Loss: -2.4139\n",
      "Epoch [8/10], Average Loss: -2.6645\n",
      "Epoch [9/10] Batch [100/313] Loss: -3.2803\n",
      "Epoch [9/10] Batch [200/313] Loss: -3.0444\n",
      "Epoch [9/10] Batch [300/313] Loss: -3.0054\n",
      "Epoch [9/10], Average Loss: -2.9082\n",
      "Epoch [10/10] Batch [100/313] Loss: -3.0207\n",
      "Epoch [10/10] Batch [200/313] Loss: -3.1596\n",
      "Epoch [10/10] Batch [300/313] Loss: -3.6521\n",
      "Epoch [10/10], Average Loss: -3.1253\n",
      "Finished Training\n",
      "\n",
      "Test Set Performance:\n",
      "              precision    recall  f1-score   support\n",
      "\n",
      "         cat       0.84      0.89      0.87      1000\n",
      "       truck       0.89      0.83      0.86      1000\n",
      "\n",
      "    accuracy                           0.86      2000\n",
      "   macro avg       0.86      0.86      0.86      2000\n",
      "weighted avg       0.86      0.86      0.86      2000\n",
      "\n",
      "\n",
      "Training Set Performance:\n",
      "              precision    recall  f1-score   support\n",
      "\n",
      "         cat       0.85      0.90      0.88      5000\n",
      "       truck       0.90      0.85      0.87      5000\n",
      "\n",
      "    accuracy                           0.87     10000\n",
      "   macro avg       0.88      0.87      0.87     10000\n",
      "weighted avg       0.88      0.87      0.87     10000\n",
      "\n"
     ]
    },
    {
     "data": {
      "text/plain": [
       "('              precision    recall  f1-score   support\\n\\n         cat       0.84      0.89      0.87      1000\\n       truck       0.89      0.83      0.86      1000\\n\\n    accuracy                           0.86      2000\\n   macro avg       0.86      0.86      0.86      2000\\nweighted avg       0.86      0.86      0.86      2000\\n',\n",
       " '              precision    recall  f1-score   support\\n\\n         cat       0.85      0.90      0.88      5000\\n       truck       0.90      0.85      0.87      5000\\n\\n    accuracy                           0.87     10000\\n   macro avg       0.88      0.87      0.87     10000\\nweighted avg       0.88      0.87      0.87     10000\\n')"
      ]
     },
     "execution_count": 20,
     "metadata": {},
     "output_type": "execute_result"
    }
   ],
   "source": [
    "evaluate([3,9])"
   ]
  },
  {
   "cell_type": "code",
   "execution_count": 21,
   "metadata": {},
   "outputs": [
    {
     "name": "stdout",
     "output_type": "stream",
     "text": [
      "\n",
      "\n",
      "=== Evaluating classes [4, 5] ===\n",
      "Selected classes: ['deer', 'dog']\n",
      "Using device: mps\n"
     ]
    },
    {
     "name": "stderr",
     "output_type": "stream",
     "text": [
      "/var/folders/j5/xjgdn5n12cv8xt7g7_l1vp280000gn/T/ipykernel_8588/3371341144.py:15: DeprecationWarning: The class ``qiskit.primitives.estimator.Estimator`` is deprecated as of qiskit 1.2. It will be removed no earlier than 3 months after the release date. All implementations of the `BaseEstimatorV1` interface have been deprecated in favor of their V2 counterparts. The V2 alternative for the `Estimator` class is `StatevectorEstimator`.\n",
      "  estimator = Estimator()\n",
      "/var/folders/j5/xjgdn5n12cv8xt7g7_l1vp280000gn/T/ipykernel_8588/3371341144.py:16: DeprecationWarning: V1 Primitives are deprecated as of qiskit-machine-learning 0.8.0 and will be removed no sooner than 4 months after the release date. Use V2 primitives for continued compatibility and support.\n",
      "  qnn = EstimatorQNN(\n"
     ]
    },
    {
     "name": "stdout",
     "output_type": "stream",
     "text": [
      "Epoch [1/10] Batch [100/313] Loss: -0.4432\n",
      "Epoch [1/10] Batch [200/313] Loss: -0.9251\n",
      "Epoch [1/10] Batch [300/313] Loss: -0.7042\n",
      "Epoch [1/10], Average Loss: -0.5322\n",
      "Epoch [2/10] Batch [100/313] Loss: -0.7429\n",
      "Epoch [2/10] Batch [200/313] Loss: -0.8222\n",
      "Epoch [2/10] Batch [300/313] Loss: -0.7993\n",
      "Epoch [2/10], Average Loss: -0.6839\n",
      "Epoch [3/10] Batch [100/313] Loss: -0.4187\n",
      "Epoch [3/10] Batch [200/313] Loss: -0.7891\n",
      "Epoch [3/10] Batch [300/313] Loss: -1.0461\n",
      "Epoch [3/10], Average Loss: -0.8472\n",
      "Epoch [4/10] Batch [100/313] Loss: -1.0684\n",
      "Epoch [4/10] Batch [200/313] Loss: -1.3004\n",
      "Epoch [4/10] Batch [300/313] Loss: -0.9368\n",
      "Epoch [4/10], Average Loss: -1.0167\n",
      "Epoch [5/10] Batch [100/313] Loss: -1.1078\n",
      "Epoch [5/10] Batch [200/313] Loss: -1.2736\n",
      "Epoch [5/10] Batch [300/313] Loss: -1.3098\n",
      "Epoch [5/10], Average Loss: -1.1795\n",
      "Epoch [6/10] Batch [100/313] Loss: -1.0618\n",
      "Epoch [6/10] Batch [200/313] Loss: -1.4937\n",
      "Epoch [6/10] Batch [300/313] Loss: -1.1129\n",
      "Epoch [6/10], Average Loss: -1.3375\n",
      "Epoch [7/10] Batch [100/313] Loss: -1.2040\n",
      "Epoch [7/10] Batch [200/313] Loss: -1.4874\n",
      "Epoch [7/10] Batch [300/313] Loss: -1.4069\n",
      "Epoch [7/10], Average Loss: -1.5158\n",
      "Epoch [8/10] Batch [100/313] Loss: -1.2366\n",
      "Epoch [8/10] Batch [200/313] Loss: -1.1729\n",
      "Epoch [8/10] Batch [300/313] Loss: -1.3963\n",
      "Epoch [8/10], Average Loss: -1.6815\n",
      "Epoch [9/10] Batch [100/313] Loss: -1.7939\n",
      "Epoch [9/10] Batch [200/313] Loss: -1.9841\n",
      "Epoch [9/10] Batch [300/313] Loss: -2.0952\n",
      "Epoch [9/10], Average Loss: -1.8231\n",
      "Epoch [10/10] Batch [100/313] Loss: -2.0938\n",
      "Epoch [10/10] Batch [200/313] Loss: -1.4893\n",
      "Epoch [10/10] Batch [300/313] Loss: -2.2287\n",
      "Epoch [10/10], Average Loss: -1.9959\n",
      "Finished Training\n",
      "\n",
      "Test Set Performance:\n",
      "              precision    recall  f1-score   support\n",
      "\n",
      "        deer       0.73      0.76      0.74      1000\n",
      "         dog       0.75      0.72      0.74      1000\n",
      "\n",
      "    accuracy                           0.74      2000\n",
      "   macro avg       0.74      0.74      0.74      2000\n",
      "weighted avg       0.74      0.74      0.74      2000\n",
      "\n",
      "\n",
      "Training Set Performance:\n",
      "              precision    recall  f1-score   support\n",
      "\n",
      "        deer       0.77      0.81      0.79      5000\n",
      "         dog       0.80      0.76      0.78      5000\n",
      "\n",
      "    accuracy                           0.78     10000\n",
      "   macro avg       0.78      0.78      0.78     10000\n",
      "weighted avg       0.78      0.78      0.78     10000\n",
      "\n"
     ]
    },
    {
     "data": {
      "text/plain": [
       "('              precision    recall  f1-score   support\\n\\n        deer       0.73      0.76      0.74      1000\\n         dog       0.75      0.72      0.74      1000\\n\\n    accuracy                           0.74      2000\\n   macro avg       0.74      0.74      0.74      2000\\nweighted avg       0.74      0.74      0.74      2000\\n',\n",
       " '              precision    recall  f1-score   support\\n\\n        deer       0.77      0.81      0.79      5000\\n         dog       0.80      0.76      0.78      5000\\n\\n    accuracy                           0.78     10000\\n   macro avg       0.78      0.78      0.78     10000\\nweighted avg       0.78      0.78      0.78     10000\\n')"
      ]
     },
     "execution_count": 21,
     "metadata": {},
     "output_type": "execute_result"
    }
   ],
   "source": [
    "evaluate([4,5])"
   ]
  },
  {
   "cell_type": "code",
   "execution_count": 22,
   "metadata": {},
   "outputs": [
    {
     "name": "stdout",
     "output_type": "stream",
     "text": [
      "\n",
      "\n",
      "=== Evaluating classes [4, 6] ===\n",
      "Selected classes: ['deer', 'frog']\n",
      "Using device: mps\n"
     ]
    },
    {
     "name": "stderr",
     "output_type": "stream",
     "text": [
      "/var/folders/j5/xjgdn5n12cv8xt7g7_l1vp280000gn/T/ipykernel_8588/3371341144.py:15: DeprecationWarning: The class ``qiskit.primitives.estimator.Estimator`` is deprecated as of qiskit 1.2. It will be removed no earlier than 3 months after the release date. All implementations of the `BaseEstimatorV1` interface have been deprecated in favor of their V2 counterparts. The V2 alternative for the `Estimator` class is `StatevectorEstimator`.\n",
      "  estimator = Estimator()\n",
      "/var/folders/j5/xjgdn5n12cv8xt7g7_l1vp280000gn/T/ipykernel_8588/3371341144.py:16: DeprecationWarning: V1 Primitives are deprecated as of qiskit-machine-learning 0.8.0 and will be removed no sooner than 4 months after the release date. Use V2 primitives for continued compatibility and support.\n",
      "  qnn = EstimatorQNN(\n"
     ]
    },
    {
     "name": "stdout",
     "output_type": "stream",
     "text": [
      "Epoch [1/10] Batch [100/313] Loss: -0.5159\n",
      "Epoch [1/10] Batch [200/313] Loss: -0.5449\n",
      "Epoch [1/10] Batch [300/313] Loss: -0.6477\n",
      "Epoch [1/10], Average Loss: -0.5403\n",
      "Epoch [2/10] Batch [100/313] Loss: -0.6427\n",
      "Epoch [2/10] Batch [200/313] Loss: -0.7739\n",
      "Epoch [2/10] Batch [300/313] Loss: -0.7670\n",
      "Epoch [2/10], Average Loss: -0.7031\n",
      "Epoch [3/10] Batch [100/313] Loss: -0.8589\n",
      "Epoch [3/10] Batch [200/313] Loss: -0.8105\n",
      "Epoch [3/10] Batch [300/313] Loss: -0.8828\n",
      "Epoch [3/10], Average Loss: -0.8874\n",
      "Epoch [4/10] Batch [100/313] Loss: -0.7968\n",
      "Epoch [4/10] Batch [200/313] Loss: -1.0958\n",
      "Epoch [4/10] Batch [300/313] Loss: -1.2754\n",
      "Epoch [4/10], Average Loss: -1.0689\n",
      "Epoch [5/10] Batch [100/313] Loss: -1.3641\n",
      "Epoch [5/10] Batch [200/313] Loss: -1.7283\n",
      "Epoch [5/10] Batch [300/313] Loss: -1.3635\n",
      "Epoch [5/10], Average Loss: -1.2639\n",
      "Epoch [6/10] Batch [100/313] Loss: -1.4583\n",
      "Epoch [6/10] Batch [200/313] Loss: -1.4951\n",
      "Epoch [6/10] Batch [300/313] Loss: -1.2990\n",
      "Epoch [6/10], Average Loss: -1.4166\n",
      "Epoch [7/10] Batch [100/313] Loss: -1.9863\n",
      "Epoch [7/10] Batch [200/313] Loss: -1.5996\n",
      "Epoch [7/10] Batch [300/313] Loss: -1.3691\n",
      "Epoch [7/10], Average Loss: -1.6180\n",
      "Epoch [8/10] Batch [100/313] Loss: -1.5883\n",
      "Epoch [8/10] Batch [200/313] Loss: -1.7695\n",
      "Epoch [8/10] Batch [300/313] Loss: -2.0434\n",
      "Epoch [8/10], Average Loss: -1.7947\n",
      "Epoch [9/10] Batch [100/313] Loss: -1.8504\n",
      "Epoch [9/10] Batch [200/313] Loss: -0.4637\n",
      "Epoch [9/10] Batch [300/313] Loss: -2.0266\n",
      "Epoch [9/10], Average Loss: -2.0016\n",
      "Epoch [10/10] Batch [100/313] Loss: -2.7647\n",
      "Epoch [10/10] Batch [200/313] Loss: -2.5749\n",
      "Epoch [10/10] Batch [300/313] Loss: -1.5425\n",
      "Epoch [10/10], Average Loss: -2.1655\n",
      "Finished Training\n",
      "\n",
      "Test Set Performance:\n",
      "              precision    recall  f1-score   support\n",
      "\n",
      "        deer       0.81      0.69      0.75      1000\n",
      "        frog       0.73      0.84      0.78      1000\n",
      "\n",
      "    accuracy                           0.77      2000\n",
      "   macro avg       0.77      0.76      0.76      2000\n",
      "weighted avg       0.77      0.77      0.76      2000\n",
      "\n",
      "\n",
      "Training Set Performance:\n",
      "              precision    recall  f1-score   support\n",
      "\n",
      "        deer       0.83      0.73      0.78      5000\n",
      "        frog       0.76      0.85      0.80      5000\n",
      "\n",
      "    accuracy                           0.79     10000\n",
      "   macro avg       0.80      0.79      0.79     10000\n",
      "weighted avg       0.80      0.79      0.79     10000\n",
      "\n"
     ]
    },
    {
     "data": {
      "text/plain": [
       "('              precision    recall  f1-score   support\\n\\n        deer       0.81      0.69      0.75      1000\\n        frog       0.73      0.84      0.78      1000\\n\\n    accuracy                           0.77      2000\\n   macro avg       0.77      0.76      0.76      2000\\nweighted avg       0.77      0.77      0.76      2000\\n',\n",
       " '              precision    recall  f1-score   support\\n\\n        deer       0.83      0.73      0.78      5000\\n        frog       0.76      0.85      0.80      5000\\n\\n    accuracy                           0.79     10000\\n   macro avg       0.80      0.79      0.79     10000\\nweighted avg       0.80      0.79      0.79     10000\\n')"
      ]
     },
     "execution_count": 22,
     "metadata": {},
     "output_type": "execute_result"
    }
   ],
   "source": [
    "evaluate([4,6])"
   ]
  },
  {
   "cell_type": "code",
   "execution_count": 23,
   "metadata": {},
   "outputs": [
    {
     "name": "stdout",
     "output_type": "stream",
     "text": [
      "\n",
      "\n",
      "=== Evaluating classes [4, 7] ===\n",
      "Selected classes: ['deer', 'horse']\n",
      "Using device: mps\n"
     ]
    },
    {
     "name": "stderr",
     "output_type": "stream",
     "text": [
      "/var/folders/j5/xjgdn5n12cv8xt7g7_l1vp280000gn/T/ipykernel_8588/3371341144.py:15: DeprecationWarning: The class ``qiskit.primitives.estimator.Estimator`` is deprecated as of qiskit 1.2. It will be removed no earlier than 3 months after the release date. All implementations of the `BaseEstimatorV1` interface have been deprecated in favor of their V2 counterparts. The V2 alternative for the `Estimator` class is `StatevectorEstimator`.\n",
      "  estimator = Estimator()\n",
      "/var/folders/j5/xjgdn5n12cv8xt7g7_l1vp280000gn/T/ipykernel_8588/3371341144.py:16: DeprecationWarning: V1 Primitives are deprecated as of qiskit-machine-learning 0.8.0 and will be removed no sooner than 4 months after the release date. Use V2 primitives for continued compatibility and support.\n",
      "  qnn = EstimatorQNN(\n"
     ]
    },
    {
     "name": "stdout",
     "output_type": "stream",
     "text": [
      "Epoch [1/10] Batch [100/313] Loss: -0.3516\n",
      "Epoch [1/10] Batch [200/313] Loss: -0.3189\n",
      "Epoch [1/10] Batch [300/313] Loss: -0.6119\n",
      "Epoch [1/10], Average Loss: -0.5144\n",
      "Epoch [2/10] Batch [100/313] Loss: -0.4770\n",
      "Epoch [2/10] Batch [200/313] Loss: -0.4291\n",
      "Epoch [2/10] Batch [300/313] Loss: -0.7616\n",
      "Epoch [2/10], Average Loss: -0.6206\n",
      "Epoch [3/10] Batch [100/313] Loss: -0.6059\n",
      "Epoch [3/10] Batch [200/313] Loss: -0.7487\n",
      "Epoch [3/10] Batch [300/313] Loss: -0.7498\n",
      "Epoch [3/10], Average Loss: -0.7712\n",
      "Epoch [4/10] Batch [100/313] Loss: -1.1818\n",
      "Epoch [4/10] Batch [200/313] Loss: -0.2863\n",
      "Epoch [4/10] Batch [300/313] Loss: -0.7004\n",
      "Epoch [4/10], Average Loss: -0.9162\n",
      "Epoch [5/10] Batch [100/313] Loss: -1.1741\n",
      "Epoch [5/10] Batch [200/313] Loss: -1.3238\n",
      "Epoch [5/10] Batch [300/313] Loss: -1.2784\n",
      "Epoch [5/10], Average Loss: -1.0683\n",
      "Epoch [6/10] Batch [100/313] Loss: -1.1196\n",
      "Epoch [6/10] Batch [200/313] Loss: -1.6742\n",
      "Epoch [6/10] Batch [300/313] Loss: -1.2145\n",
      "Epoch [6/10], Average Loss: -1.2213\n",
      "Epoch [7/10] Batch [100/313] Loss: -1.4551\n",
      "Epoch [7/10] Batch [200/313] Loss: -1.3832\n",
      "Epoch [7/10] Batch [300/313] Loss: -1.7834\n",
      "Epoch [7/10], Average Loss: -1.3741\n",
      "Epoch [8/10] Batch [100/313] Loss: -0.9798\n",
      "Epoch [8/10] Batch [200/313] Loss: -0.8406\n",
      "Epoch [8/10] Batch [300/313] Loss: -1.4361\n",
      "Epoch [8/10], Average Loss: -1.5262\n",
      "Epoch [9/10] Batch [100/313] Loss: -1.8984\n",
      "Epoch [9/10] Batch [200/313] Loss: -1.4894\n",
      "Epoch [9/10] Batch [300/313] Loss: -2.2729\n",
      "Epoch [9/10], Average Loss: -1.6867\n",
      "Epoch [10/10] Batch [100/313] Loss: -1.3438\n",
      "Epoch [10/10] Batch [200/313] Loss: -1.1181\n",
      "Epoch [10/10] Batch [300/313] Loss: -2.4014\n",
      "Epoch [10/10], Average Loss: -1.8479\n",
      "Finished Training\n",
      "\n",
      "Test Set Performance:\n",
      "              precision    recall  f1-score   support\n",
      "\n",
      "        deer       0.56      0.96      0.71      1000\n",
      "       horse       0.86      0.26      0.40      1000\n",
      "\n",
      "    accuracy                           0.61      2000\n",
      "   macro avg       0.71      0.61      0.55      2000\n",
      "weighted avg       0.71      0.61      0.55      2000\n",
      "\n",
      "\n",
      "Training Set Performance:\n",
      "              precision    recall  f1-score   support\n",
      "\n",
      "        deer       0.56      0.95      0.70      5000\n",
      "       horse       0.84      0.24      0.38      5000\n",
      "\n",
      "    accuracy                           0.60     10000\n",
      "   macro avg       0.70      0.60      0.54     10000\n",
      "weighted avg       0.70      0.60      0.54     10000\n",
      "\n"
     ]
    },
    {
     "data": {
      "text/plain": [
       "('              precision    recall  f1-score   support\\n\\n        deer       0.56      0.96      0.71      1000\\n       horse       0.86      0.26      0.40      1000\\n\\n    accuracy                           0.61      2000\\n   macro avg       0.71      0.61      0.55      2000\\nweighted avg       0.71      0.61      0.55      2000\\n',\n",
       " '              precision    recall  f1-score   support\\n\\n        deer       0.56      0.95      0.70      5000\\n       horse       0.84      0.24      0.38      5000\\n\\n    accuracy                           0.60     10000\\n   macro avg       0.70      0.60      0.54     10000\\nweighted avg       0.70      0.60      0.54     10000\\n')"
      ]
     },
     "execution_count": 23,
     "metadata": {},
     "output_type": "execute_result"
    }
   ],
   "source": [
    "evaluate([4,7])"
   ]
  },
  {
   "cell_type": "code",
   "execution_count": 24,
   "metadata": {},
   "outputs": [
    {
     "name": "stdout",
     "output_type": "stream",
     "text": [
      "\n",
      "\n",
      "=== Evaluating classes [4, 8] ===\n",
      "Selected classes: ['deer', 'ship']\n",
      "Using device: mps\n"
     ]
    },
    {
     "name": "stderr",
     "output_type": "stream",
     "text": [
      "/var/folders/j5/xjgdn5n12cv8xt7g7_l1vp280000gn/T/ipykernel_8588/3371341144.py:15: DeprecationWarning: The class ``qiskit.primitives.estimator.Estimator`` is deprecated as of qiskit 1.2. It will be removed no earlier than 3 months after the release date. All implementations of the `BaseEstimatorV1` interface have been deprecated in favor of their V2 counterparts. The V2 alternative for the `Estimator` class is `StatevectorEstimator`.\n",
      "  estimator = Estimator()\n",
      "/var/folders/j5/xjgdn5n12cv8xt7g7_l1vp280000gn/T/ipykernel_8588/3371341144.py:16: DeprecationWarning: V1 Primitives are deprecated as of qiskit-machine-learning 0.8.0 and will be removed no sooner than 4 months after the release date. Use V2 primitives for continued compatibility and support.\n",
      "  qnn = EstimatorQNN(\n"
     ]
    },
    {
     "name": "stdout",
     "output_type": "stream",
     "text": [
      "Epoch [1/10] Batch [100/313] Loss: -0.6304\n",
      "Epoch [1/10] Batch [200/313] Loss: -0.8899\n",
      "Epoch [1/10] Batch [300/313] Loss: -1.1888\n",
      "Epoch [1/10], Average Loss: -0.7792\n",
      "Epoch [2/10] Batch [100/313] Loss: -0.9233\n",
      "Epoch [2/10] Batch [200/313] Loss: -0.9735\n",
      "Epoch [2/10] Batch [300/313] Loss: -1.1095\n",
      "Epoch [2/10], Average Loss: -1.1540\n",
      "Epoch [3/10] Batch [100/313] Loss: -1.3577\n",
      "Epoch [3/10] Batch [200/313] Loss: -1.3835\n",
      "Epoch [3/10] Batch [300/313] Loss: -1.6716\n",
      "Epoch [3/10], Average Loss: -1.4345\n",
      "Epoch [4/10] Batch [100/313] Loss: -1.2252\n",
      "Epoch [4/10] Batch [200/313] Loss: -1.5829\n",
      "Epoch [4/10] Batch [300/313] Loss: -1.6844\n",
      "Epoch [4/10], Average Loss: -1.7516\n",
      "Epoch [5/10] Batch [100/313] Loss: -2.2944\n",
      "Epoch [5/10] Batch [200/313] Loss: -2.2431\n",
      "Epoch [5/10] Batch [300/313] Loss: -2.3088\n",
      "Epoch [5/10], Average Loss: -2.0493\n",
      "Epoch [6/10] Batch [100/313] Loss: -2.5044\n",
      "Epoch [6/10] Batch [200/313] Loss: -1.9484\n",
      "Epoch [6/10] Batch [300/313] Loss: -2.7709\n",
      "Epoch [6/10], Average Loss: -2.3384\n",
      "Epoch [7/10] Batch [100/313] Loss: -2.7197\n",
      "Epoch [7/10] Batch [200/313] Loss: -2.3085\n",
      "Epoch [7/10] Batch [300/313] Loss: -2.5911\n",
      "Epoch [7/10], Average Loss: -2.6087\n",
      "Epoch [8/10] Batch [100/313] Loss: -2.7936\n",
      "Epoch [8/10] Batch [200/313] Loss: -2.5110\n",
      "Epoch [8/10] Batch [300/313] Loss: -2.7858\n",
      "Epoch [8/10], Average Loss: -2.8718\n",
      "Epoch [9/10] Batch [100/313] Loss: -2.8752\n",
      "Epoch [9/10] Batch [200/313] Loss: -3.2357\n",
      "Epoch [9/10] Batch [300/313] Loss: -3.3805\n",
      "Epoch [9/10], Average Loss: -3.0612\n",
      "Epoch [10/10] Batch [100/313] Loss: -3.4474\n",
      "Epoch [10/10] Batch [200/313] Loss: -3.7257\n",
      "Epoch [10/10] Batch [300/313] Loss: -2.9044\n",
      "Epoch [10/10], Average Loss: -3.3274\n",
      "Finished Training\n",
      "\n",
      "Test Set Performance:\n",
      "              precision    recall  f1-score   support\n",
      "\n",
      "        deer       0.87      0.87      0.87      1000\n",
      "        ship       0.87      0.87      0.87      1000\n",
      "\n",
      "    accuracy                           0.87      2000\n",
      "   macro avg       0.87      0.87      0.87      2000\n",
      "weighted avg       0.87      0.87      0.87      2000\n",
      "\n",
      "\n",
      "Training Set Performance:\n",
      "              precision    recall  f1-score   support\n",
      "\n",
      "        deer       0.87      0.86      0.86      5000\n",
      "        ship       0.86      0.87      0.86      5000\n",
      "\n",
      "    accuracy                           0.86     10000\n",
      "   macro avg       0.86      0.86      0.86     10000\n",
      "weighted avg       0.86      0.86      0.86     10000\n",
      "\n"
     ]
    },
    {
     "data": {
      "text/plain": [
       "('              precision    recall  f1-score   support\\n\\n        deer       0.87      0.87      0.87      1000\\n        ship       0.87      0.87      0.87      1000\\n\\n    accuracy                           0.87      2000\\n   macro avg       0.87      0.87      0.87      2000\\nweighted avg       0.87      0.87      0.87      2000\\n',\n",
       " '              precision    recall  f1-score   support\\n\\n        deer       0.87      0.86      0.86      5000\\n        ship       0.86      0.87      0.86      5000\\n\\n    accuracy                           0.86     10000\\n   macro avg       0.86      0.86      0.86     10000\\nweighted avg       0.86      0.86      0.86     10000\\n')"
      ]
     },
     "execution_count": 24,
     "metadata": {},
     "output_type": "execute_result"
    }
   ],
   "source": [
    "evaluate([4,8])"
   ]
  },
  {
   "cell_type": "code",
   "execution_count": 25,
   "metadata": {},
   "outputs": [
    {
     "name": "stdout",
     "output_type": "stream",
     "text": [
      "\n",
      "\n",
      "=== Evaluating classes [4, 9] ===\n",
      "Selected classes: ['deer', 'truck']\n",
      "Using device: mps\n"
     ]
    },
    {
     "name": "stderr",
     "output_type": "stream",
     "text": [
      "/var/folders/j5/xjgdn5n12cv8xt7g7_l1vp280000gn/T/ipykernel_8588/3371341144.py:15: DeprecationWarning: The class ``qiskit.primitives.estimator.Estimator`` is deprecated as of qiskit 1.2. It will be removed no earlier than 3 months after the release date. All implementations of the `BaseEstimatorV1` interface have been deprecated in favor of their V2 counterparts. The V2 alternative for the `Estimator` class is `StatevectorEstimator`.\n",
      "  estimator = Estimator()\n",
      "/var/folders/j5/xjgdn5n12cv8xt7g7_l1vp280000gn/T/ipykernel_8588/3371341144.py:16: DeprecationWarning: V1 Primitives are deprecated as of qiskit-machine-learning 0.8.0 and will be removed no sooner than 4 months after the release date. Use V2 primitives for continued compatibility and support.\n",
      "  qnn = EstimatorQNN(\n"
     ]
    },
    {
     "name": "stdout",
     "output_type": "stream",
     "text": [
      "Epoch [1/10] Batch [100/313] Loss: -0.6052\n",
      "Epoch [1/10] Batch [200/313] Loss: -0.6641\n",
      "Epoch [1/10] Batch [300/313] Loss: -0.8407\n",
      "Epoch [1/10], Average Loss: -0.6590\n",
      "Epoch [2/10] Batch [100/313] Loss: -0.9839\n",
      "Epoch [2/10] Batch [200/313] Loss: -1.1586\n",
      "Epoch [2/10] Batch [300/313] Loss: -1.2516\n",
      "Epoch [2/10], Average Loss: -0.9985\n",
      "Epoch [3/10] Batch [100/313] Loss: -0.9437\n",
      "Epoch [3/10] Batch [200/313] Loss: -1.3424\n",
      "Epoch [3/10] Batch [300/313] Loss: -1.3748\n",
      "Epoch [3/10], Average Loss: -1.3095\n",
      "Epoch [4/10] Batch [100/313] Loss: -1.4087\n",
      "Epoch [4/10] Batch [200/313] Loss: -1.5060\n",
      "Epoch [4/10] Batch [300/313] Loss: -1.9213\n",
      "Epoch [4/10], Average Loss: -1.5943\n",
      "Epoch [5/10] Batch [100/313] Loss: -1.8996\n",
      "Epoch [5/10] Batch [200/313] Loss: -1.6198\n",
      "Epoch [5/10] Batch [300/313] Loss: -2.1951\n",
      "Epoch [5/10], Average Loss: -1.8495\n",
      "Epoch [6/10] Batch [100/313] Loss: -1.2725\n",
      "Epoch [6/10] Batch [200/313] Loss: -2.1408\n",
      "Epoch [6/10] Batch [300/313] Loss: -1.9108\n",
      "Epoch [6/10], Average Loss: -2.1011\n",
      "Epoch [7/10] Batch [100/313] Loss: -2.0833\n",
      "Epoch [7/10] Batch [200/313] Loss: -2.2828\n",
      "Epoch [7/10] Batch [300/313] Loss: -2.3743\n",
      "Epoch [7/10], Average Loss: -2.3766\n",
      "Epoch [8/10] Batch [100/313] Loss: -3.0436\n",
      "Epoch [8/10] Batch [200/313] Loss: -2.3369\n",
      "Epoch [8/10] Batch [300/313] Loss: -2.3057\n",
      "Epoch [8/10], Average Loss: -2.5935\n",
      "Epoch [9/10] Batch [100/313] Loss: -3.3170\n",
      "Epoch [9/10] Batch [200/313] Loss: -2.7979\n",
      "Epoch [9/10] Batch [300/313] Loss: -3.1017\n",
      "Epoch [9/10], Average Loss: -2.8879\n",
      "Epoch [10/10] Batch [100/313] Loss: -2.9603\n",
      "Epoch [10/10] Batch [200/313] Loss: -2.9784\n",
      "Epoch [10/10] Batch [300/313] Loss: -3.2899\n",
      "Epoch [10/10], Average Loss: -3.1255\n",
      "Finished Training\n",
      "\n",
      "Test Set Performance:\n",
      "              precision    recall  f1-score   support\n",
      "\n",
      "        deer       0.86      0.93      0.89      1000\n",
      "       truck       0.92      0.85      0.89      1000\n",
      "\n",
      "    accuracy                           0.89      2000\n",
      "   macro avg       0.89      0.89      0.89      2000\n",
      "weighted avg       0.89      0.89      0.89      2000\n",
      "\n",
      "\n",
      "Training Set Performance:\n",
      "              precision    recall  f1-score   support\n",
      "\n",
      "        deer       0.88      0.91      0.90      5000\n",
      "       truck       0.91      0.88      0.89      5000\n",
      "\n",
      "    accuracy                           0.89     10000\n",
      "   macro avg       0.90      0.89      0.89     10000\n",
      "weighted avg       0.90      0.89      0.89     10000\n",
      "\n"
     ]
    },
    {
     "data": {
      "text/plain": [
       "('              precision    recall  f1-score   support\\n\\n        deer       0.86      0.93      0.89      1000\\n       truck       0.92      0.85      0.89      1000\\n\\n    accuracy                           0.89      2000\\n   macro avg       0.89      0.89      0.89      2000\\nweighted avg       0.89      0.89      0.89      2000\\n',\n",
       " '              precision    recall  f1-score   support\\n\\n        deer       0.88      0.91      0.90      5000\\n       truck       0.91      0.88      0.89      5000\\n\\n    accuracy                           0.89     10000\\n   macro avg       0.90      0.89      0.89     10000\\nweighted avg       0.90      0.89      0.89     10000\\n')"
      ]
     },
     "execution_count": 25,
     "metadata": {},
     "output_type": "execute_result"
    }
   ],
   "source": [
    "evaluate([4,9])"
   ]
  },
  {
   "cell_type": "code",
   "execution_count": 26,
   "metadata": {},
   "outputs": [
    {
     "name": "stdout",
     "output_type": "stream",
     "text": [
      "\n",
      "\n",
      "=== Evaluating classes [5, 6] ===\n",
      "Selected classes: ['dog', 'frog']\n",
      "Using device: mps\n"
     ]
    },
    {
     "name": "stderr",
     "output_type": "stream",
     "text": [
      "/var/folders/j5/xjgdn5n12cv8xt7g7_l1vp280000gn/T/ipykernel_8588/3371341144.py:15: DeprecationWarning: The class ``qiskit.primitives.estimator.Estimator`` is deprecated as of qiskit 1.2. It will be removed no earlier than 3 months after the release date. All implementations of the `BaseEstimatorV1` interface have been deprecated in favor of their V2 counterparts. The V2 alternative for the `Estimator` class is `StatevectorEstimator`.\n",
      "  estimator = Estimator()\n",
      "/var/folders/j5/xjgdn5n12cv8xt7g7_l1vp280000gn/T/ipykernel_8588/3371341144.py:16: DeprecationWarning: V1 Primitives are deprecated as of qiskit-machine-learning 0.8.0 and will be removed no sooner than 4 months after the release date. Use V2 primitives for continued compatibility and support.\n",
      "  qnn = EstimatorQNN(\n"
     ]
    },
    {
     "name": "stdout",
     "output_type": "stream",
     "text": [
      "Epoch [1/10] Batch [100/313] Loss: -1.0095\n",
      "Epoch [1/10] Batch [200/313] Loss: -0.8848\n",
      "Epoch [1/10] Batch [300/313] Loss: -0.5081\n",
      "Epoch [1/10], Average Loss: -0.6767\n",
      "Epoch [2/10] Batch [100/313] Loss: -0.9289\n",
      "Epoch [2/10] Batch [200/313] Loss: -0.6864\n",
      "Epoch [2/10] Batch [300/313] Loss: -1.0458\n",
      "Epoch [2/10], Average Loss: -0.8881\n",
      "Epoch [3/10] Batch [100/313] Loss: -0.8749\n",
      "Epoch [3/10] Batch [200/313] Loss: -1.1691\n",
      "Epoch [3/10] Batch [300/313] Loss: -1.0994\n",
      "Epoch [3/10], Average Loss: -1.0906\n",
      "Epoch [4/10] Batch [100/313] Loss: -1.6546\n",
      "Epoch [4/10] Batch [200/313] Loss: -1.2304\n",
      "Epoch [4/10] Batch [300/313] Loss: -0.8791\n",
      "Epoch [4/10], Average Loss: -1.2788\n",
      "Epoch [5/10] Batch [100/313] Loss: -1.3957\n",
      "Epoch [5/10] Batch [200/313] Loss: -1.6841\n",
      "Epoch [5/10] Batch [300/313] Loss: -1.2554\n",
      "Epoch [5/10], Average Loss: -1.4702\n",
      "Epoch [6/10] Batch [100/313] Loss: -1.7067\n",
      "Epoch [6/10] Batch [200/313] Loss: -1.6451\n",
      "Epoch [6/10] Batch [300/313] Loss: -0.8109\n",
      "Epoch [6/10], Average Loss: -1.6516\n",
      "Epoch [7/10] Batch [100/313] Loss: -1.5802\n",
      "Epoch [7/10] Batch [200/313] Loss: -1.3793\n",
      "Epoch [7/10] Batch [300/313] Loss: -2.5469\n",
      "Epoch [7/10], Average Loss: -1.8343\n",
      "Epoch [8/10] Batch [100/313] Loss: -2.2723\n",
      "Epoch [8/10] Batch [200/313] Loss: -1.9754\n",
      "Epoch [8/10] Batch [300/313] Loss: -2.7579\n",
      "Epoch [8/10], Average Loss: -2.0237\n",
      "Epoch [9/10] Batch [100/313] Loss: -1.7771\n",
      "Epoch [9/10] Batch [200/313] Loss: -1.9205\n",
      "Epoch [9/10] Batch [300/313] Loss: -1.2384\n",
      "Epoch [9/10], Average Loss: -2.1990\n",
      "Epoch [10/10] Batch [100/313] Loss: -2.4180\n",
      "Epoch [10/10] Batch [200/313] Loss: -2.1842\n",
      "Epoch [10/10] Batch [300/313] Loss: -2.6405\n",
      "Epoch [10/10], Average Loss: -2.4029\n",
      "Finished Training\n",
      "\n",
      "Test Set Performance:\n",
      "              precision    recall  f1-score   support\n",
      "\n",
      "         dog       0.78      0.79      0.79      1000\n",
      "        frog       0.79      0.78      0.78      1000\n",
      "\n",
      "    accuracy                           0.79      2000\n",
      "   macro avg       0.79      0.79      0.79      2000\n",
      "weighted avg       0.79      0.79      0.79      2000\n",
      "\n",
      "\n",
      "Training Set Performance:\n",
      "              precision    recall  f1-score   support\n",
      "\n",
      "         dog       0.81      0.79      0.80      5000\n",
      "        frog       0.80      0.81      0.80      5000\n",
      "\n",
      "    accuracy                           0.80     10000\n",
      "   macro avg       0.80      0.80      0.80     10000\n",
      "weighted avg       0.80      0.80      0.80     10000\n",
      "\n"
     ]
    },
    {
     "data": {
      "text/plain": [
       "('              precision    recall  f1-score   support\\n\\n         dog       0.78      0.79      0.79      1000\\n        frog       0.79      0.78      0.78      1000\\n\\n    accuracy                           0.79      2000\\n   macro avg       0.79      0.79      0.79      2000\\nweighted avg       0.79      0.79      0.79      2000\\n',\n",
       " '              precision    recall  f1-score   support\\n\\n         dog       0.81      0.79      0.80      5000\\n        frog       0.80      0.81      0.80      5000\\n\\n    accuracy                           0.80     10000\\n   macro avg       0.80      0.80      0.80     10000\\nweighted avg       0.80      0.80      0.80     10000\\n')"
      ]
     },
     "execution_count": 26,
     "metadata": {},
     "output_type": "execute_result"
    }
   ],
   "source": [
    "evaluate([5,6])"
   ]
  },
  {
   "cell_type": "code",
   "execution_count": 27,
   "metadata": {},
   "outputs": [
    {
     "name": "stdout",
     "output_type": "stream",
     "text": [
      "\n",
      "\n",
      "=== Evaluating classes [5, 7] ===\n",
      "Selected classes: ['dog', 'horse']\n",
      "Using device: mps\n"
     ]
    },
    {
     "name": "stderr",
     "output_type": "stream",
     "text": [
      "/var/folders/j5/xjgdn5n12cv8xt7g7_l1vp280000gn/T/ipykernel_8588/3371341144.py:15: DeprecationWarning: The class ``qiskit.primitives.estimator.Estimator`` is deprecated as of qiskit 1.2. It will be removed no earlier than 3 months after the release date. All implementations of the `BaseEstimatorV1` interface have been deprecated in favor of their V2 counterparts. The V2 alternative for the `Estimator` class is `StatevectorEstimator`.\n",
      "  estimator = Estimator()\n",
      "/var/folders/j5/xjgdn5n12cv8xt7g7_l1vp280000gn/T/ipykernel_8588/3371341144.py:16: DeprecationWarning: V1 Primitives are deprecated as of qiskit-machine-learning 0.8.0 and will be removed no sooner than 4 months after the release date. Use V2 primitives for continued compatibility and support.\n",
      "  qnn = EstimatorQNN(\n"
     ]
    },
    {
     "name": "stdout",
     "output_type": "stream",
     "text": [
      "Epoch [1/10] Batch [100/313] Loss: -0.4351\n",
      "Epoch [1/10] Batch [200/313] Loss: -0.3192\n",
      "Epoch [1/10] Batch [300/313] Loss: -0.7439\n",
      "Epoch [1/10], Average Loss: -0.5354\n",
      "Epoch [2/10] Batch [100/313] Loss: -0.4343\n",
      "Epoch [2/10] Batch [200/313] Loss: -0.6512\n",
      "Epoch [2/10] Batch [300/313] Loss: -0.4243\n",
      "Epoch [2/10], Average Loss: -0.6534\n",
      "Epoch [3/10] Batch [100/313] Loss: -0.8465\n",
      "Epoch [3/10] Batch [200/313] Loss: -0.7390\n",
      "Epoch [3/10] Batch [300/313] Loss: -0.6570\n",
      "Epoch [3/10], Average Loss: -0.7986\n",
      "Epoch [4/10] Batch [100/313] Loss: -0.6154\n",
      "Epoch [4/10] Batch [200/313] Loss: -0.7567\n",
      "Epoch [4/10] Batch [300/313] Loss: -1.3140\n",
      "Epoch [4/10], Average Loss: -0.9561\n",
      "Epoch [5/10] Batch [100/313] Loss: -1.4667\n",
      "Epoch [5/10] Batch [200/313] Loss: -1.4275\n",
      "Epoch [5/10] Batch [300/313] Loss: -0.9431\n",
      "Epoch [5/10], Average Loss: -1.1439\n",
      "Epoch [6/10] Batch [100/313] Loss: -1.2643\n",
      "Epoch [6/10] Batch [200/313] Loss: -1.2929\n",
      "Epoch [6/10] Batch [300/313] Loss: -1.3667\n",
      "Epoch [6/10], Average Loss: -1.3029\n",
      "Epoch [7/10] Batch [100/313] Loss: -1.7187\n",
      "Epoch [7/10] Batch [200/313] Loss: -1.2554\n",
      "Epoch [7/10] Batch [300/313] Loss: -2.1233\n",
      "Epoch [7/10], Average Loss: -1.4788\n",
      "Epoch [8/10] Batch [100/313] Loss: -1.2721\n",
      "Epoch [8/10] Batch [200/313] Loss: -1.8270\n",
      "Epoch [8/10] Batch [300/313] Loss: -1.4206\n",
      "Epoch [8/10], Average Loss: -1.6709\n",
      "Epoch [9/10] Batch [100/313] Loss: -1.9718\n",
      "Epoch [9/10] Batch [200/313] Loss: -1.8976\n",
      "Epoch [9/10] Batch [300/313] Loss: -2.1806\n",
      "Epoch [9/10], Average Loss: -1.8612\n",
      "Epoch [10/10] Batch [100/313] Loss: -2.1421\n",
      "Epoch [10/10] Batch [200/313] Loss: -2.7089\n",
      "Epoch [10/10] Batch [300/313] Loss: -1.9351\n",
      "Epoch [10/10], Average Loss: -2.0331\n",
      "Finished Training\n",
      "\n",
      "Test Set Performance:\n",
      "              precision    recall  f1-score   support\n",
      "\n",
      "         dog       0.80      0.64      0.71      1000\n",
      "       horse       0.70      0.84      0.76      1000\n",
      "\n",
      "    accuracy                           0.74      2000\n",
      "   macro avg       0.75      0.74      0.74      2000\n",
      "weighted avg       0.75      0.74      0.74      2000\n",
      "\n",
      "\n",
      "Training Set Performance:\n",
      "              precision    recall  f1-score   support\n",
      "\n",
      "         dog       0.83      0.68      0.75      5000\n",
      "       horse       0.73      0.86      0.79      5000\n",
      "\n",
      "    accuracy                           0.77     10000\n",
      "   macro avg       0.78      0.77      0.77     10000\n",
      "weighted avg       0.78      0.77      0.77     10000\n",
      "\n"
     ]
    },
    {
     "data": {
      "text/plain": [
       "('              precision    recall  f1-score   support\\n\\n         dog       0.80      0.64      0.71      1000\\n       horse       0.70      0.84      0.76      1000\\n\\n    accuracy                           0.74      2000\\n   macro avg       0.75      0.74      0.74      2000\\nweighted avg       0.75      0.74      0.74      2000\\n',\n",
       " '              precision    recall  f1-score   support\\n\\n         dog       0.83      0.68      0.75      5000\\n       horse       0.73      0.86      0.79      5000\\n\\n    accuracy                           0.77     10000\\n   macro avg       0.78      0.77      0.77     10000\\nweighted avg       0.78      0.77      0.77     10000\\n')"
      ]
     },
     "execution_count": 27,
     "metadata": {},
     "output_type": "execute_result"
    }
   ],
   "source": [
    "evaluate([5,7])"
   ]
  },
  {
   "cell_type": "code",
   "execution_count": 28,
   "metadata": {},
   "outputs": [
    {
     "name": "stdout",
     "output_type": "stream",
     "text": [
      "\n",
      "\n",
      "=== Evaluating classes [5, 8] ===\n",
      "Selected classes: ['dog', 'ship']\n",
      "Using device: mps\n"
     ]
    },
    {
     "name": "stderr",
     "output_type": "stream",
     "text": [
      "/var/folders/j5/xjgdn5n12cv8xt7g7_l1vp280000gn/T/ipykernel_8588/3371341144.py:15: DeprecationWarning: The class ``qiskit.primitives.estimator.Estimator`` is deprecated as of qiskit 1.2. It will be removed no earlier than 3 months after the release date. All implementations of the `BaseEstimatorV1` interface have been deprecated in favor of their V2 counterparts. The V2 alternative for the `Estimator` class is `StatevectorEstimator`.\n",
      "  estimator = Estimator()\n",
      "/var/folders/j5/xjgdn5n12cv8xt7g7_l1vp280000gn/T/ipykernel_8588/3371341144.py:16: DeprecationWarning: V1 Primitives are deprecated as of qiskit-machine-learning 0.8.0 and will be removed no sooner than 4 months after the release date. Use V2 primitives for continued compatibility and support.\n",
      "  qnn = EstimatorQNN(\n"
     ]
    },
    {
     "name": "stdout",
     "output_type": "stream",
     "text": [
      "Epoch [1/10] Batch [100/313] Loss: -0.4854\n",
      "Epoch [1/10] Batch [200/313] Loss: -0.7531\n",
      "Epoch [1/10] Batch [300/313] Loss: -0.5997\n",
      "Epoch [1/10], Average Loss: -0.5917\n",
      "Epoch [2/10] Batch [100/313] Loss: -1.0545\n",
      "Epoch [2/10] Batch [200/313] Loss: -1.3157\n",
      "Epoch [2/10] Batch [300/313] Loss: -1.0781\n",
      "Epoch [2/10], Average Loss: -0.9061\n",
      "Epoch [3/10] Batch [100/313] Loss: -1.2814\n",
      "Epoch [3/10] Batch [200/313] Loss: -1.2832\n",
      "Epoch [3/10] Batch [300/313] Loss: -1.3103\n",
      "Epoch [3/10], Average Loss: -1.2393\n",
      "Epoch [4/10] Batch [100/313] Loss: -1.4066\n",
      "Epoch [4/10] Batch [200/313] Loss: -1.3442\n",
      "Epoch [4/10] Batch [300/313] Loss: -1.7668\n",
      "Epoch [4/10], Average Loss: -1.5301\n",
      "Epoch [5/10] Batch [100/313] Loss: -2.2056\n",
      "Epoch [5/10] Batch [200/313] Loss: -1.8731\n",
      "Epoch [5/10] Batch [300/313] Loss: -2.2786\n",
      "Epoch [5/10], Average Loss: -1.8101\n",
      "Epoch [6/10] Batch [100/313] Loss: -2.1193\n",
      "Epoch [6/10] Batch [200/313] Loss: -2.0401\n",
      "Epoch [6/10] Batch [300/313] Loss: -2.1030\n",
      "Epoch [6/10], Average Loss: -2.0987\n",
      "Epoch [7/10] Batch [100/313] Loss: -1.9062\n",
      "Epoch [7/10] Batch [200/313] Loss: -1.9168\n",
      "Epoch [7/10] Batch [300/313] Loss: -3.0534\n",
      "Epoch [7/10], Average Loss: -2.3479\n",
      "Epoch [8/10] Batch [100/313] Loss: -2.7504\n",
      "Epoch [8/10] Batch [200/313] Loss: -2.4932\n",
      "Epoch [8/10] Batch [300/313] Loss: -2.8116\n",
      "Epoch [8/10], Average Loss: -2.6204\n",
      "Epoch [9/10] Batch [100/313] Loss: -2.9835\n",
      "Epoch [9/10] Batch [200/313] Loss: -3.2436\n",
      "Epoch [9/10] Batch [300/313] Loss: -3.1059\n",
      "Epoch [9/10], Average Loss: -2.8857\n",
      "Epoch [10/10] Batch [100/313] Loss: -2.7935\n",
      "Epoch [10/10] Batch [200/313] Loss: -3.5363\n",
      "Epoch [10/10] Batch [300/313] Loss: -2.9933\n",
      "Epoch [10/10], Average Loss: -3.1635\n",
      "Finished Training\n",
      "\n",
      "Test Set Performance:\n",
      "              precision    recall  f1-score   support\n",
      "\n",
      "         dog       0.91      0.94      0.92      1000\n",
      "        ship       0.94      0.90      0.92      1000\n",
      "\n",
      "    accuracy                           0.92      2000\n",
      "   macro avg       0.92      0.92      0.92      2000\n",
      "weighted avg       0.92      0.92      0.92      2000\n",
      "\n",
      "\n",
      "Training Set Performance:\n",
      "              precision    recall  f1-score   support\n",
      "\n",
      "         dog       0.91      0.95      0.93      5000\n",
      "        ship       0.95      0.91      0.93      5000\n",
      "\n",
      "    accuracy                           0.93     10000\n",
      "   macro avg       0.93      0.93      0.93     10000\n",
      "weighted avg       0.93      0.93      0.93     10000\n",
      "\n"
     ]
    },
    {
     "data": {
      "text/plain": [
       "('              precision    recall  f1-score   support\\n\\n         dog       0.91      0.94      0.92      1000\\n        ship       0.94      0.90      0.92      1000\\n\\n    accuracy                           0.92      2000\\n   macro avg       0.92      0.92      0.92      2000\\nweighted avg       0.92      0.92      0.92      2000\\n',\n",
       " '              precision    recall  f1-score   support\\n\\n         dog       0.91      0.95      0.93      5000\\n        ship       0.95      0.91      0.93      5000\\n\\n    accuracy                           0.93     10000\\n   macro avg       0.93      0.93      0.93     10000\\nweighted avg       0.93      0.93      0.93     10000\\n')"
      ]
     },
     "execution_count": 28,
     "metadata": {},
     "output_type": "execute_result"
    }
   ],
   "source": [
    "evaluate([5,8])"
   ]
  },
  {
   "cell_type": "code",
   "execution_count": 29,
   "metadata": {},
   "outputs": [
    {
     "name": "stdout",
     "output_type": "stream",
     "text": [
      "\n",
      "\n",
      "=== Evaluating classes [5, 9] ===\n",
      "Selected classes: ['dog', 'truck']\n",
      "Using device: mps\n"
     ]
    },
    {
     "name": "stderr",
     "output_type": "stream",
     "text": [
      "/var/folders/j5/xjgdn5n12cv8xt7g7_l1vp280000gn/T/ipykernel_8588/3371341144.py:15: DeprecationWarning: The class ``qiskit.primitives.estimator.Estimator`` is deprecated as of qiskit 1.2. It will be removed no earlier than 3 months after the release date. All implementations of the `BaseEstimatorV1` interface have been deprecated in favor of their V2 counterparts. The V2 alternative for the `Estimator` class is `StatevectorEstimator`.\n",
      "  estimator = Estimator()\n",
      "/var/folders/j5/xjgdn5n12cv8xt7g7_l1vp280000gn/T/ipykernel_8588/3371341144.py:16: DeprecationWarning: V1 Primitives are deprecated as of qiskit-machine-learning 0.8.0 and will be removed no sooner than 4 months after the release date. Use V2 primitives for continued compatibility and support.\n",
      "  qnn = EstimatorQNN(\n"
     ]
    },
    {
     "name": "stdout",
     "output_type": "stream",
     "text": [
      "Epoch [1/10] Batch [100/313] Loss: -0.5346\n",
      "Epoch [1/10] Batch [200/313] Loss: -0.7031\n",
      "Epoch [1/10] Batch [300/313] Loss: -0.7047\n",
      "Epoch [1/10], Average Loss: -0.6274\n",
      "Epoch [2/10] Batch [100/313] Loss: -0.7402\n",
      "Epoch [2/10] Batch [200/313] Loss: -0.9159\n",
      "Epoch [2/10] Batch [300/313] Loss: -0.9705\n",
      "Epoch [2/10], Average Loss: -0.8478\n",
      "Epoch [3/10] Batch [100/313] Loss: -1.0835\n",
      "Epoch [3/10] Batch [200/313] Loss: -1.2453\n",
      "Epoch [3/10] Batch [300/313] Loss: -1.0698\n",
      "Epoch [3/10], Average Loss: -1.0736\n",
      "Epoch [4/10] Batch [100/313] Loss: -1.3624\n",
      "Epoch [4/10] Batch [200/313] Loss: -1.5258\n",
      "Epoch [4/10] Batch [300/313] Loss: -1.5056\n",
      "Epoch [4/10], Average Loss: -1.3193\n",
      "Epoch [5/10] Batch [100/313] Loss: -1.3910\n",
      "Epoch [5/10] Batch [200/313] Loss: -1.9055\n",
      "Epoch [5/10] Batch [300/313] Loss: -1.8154\n",
      "Epoch [5/10], Average Loss: -1.5421\n",
      "Epoch [6/10] Batch [100/313] Loss: -1.6037\n",
      "Epoch [6/10] Batch [200/313] Loss: -2.0890\n",
      "Epoch [6/10] Batch [300/313] Loss: -1.8771\n",
      "Epoch [6/10], Average Loss: -1.7811\n",
      "Epoch [7/10] Batch [100/313] Loss: -2.1748\n",
      "Epoch [7/10] Batch [200/313] Loss: -2.4064\n",
      "Epoch [7/10] Batch [300/313] Loss: -1.5029\n",
      "Epoch [7/10], Average Loss: -2.0261\n",
      "Epoch [8/10] Batch [100/313] Loss: -2.7150\n",
      "Epoch [8/10] Batch [200/313] Loss: -2.0404\n",
      "Epoch [8/10] Batch [300/313] Loss: -2.4024\n",
      "Epoch [8/10], Average Loss: -2.2456\n",
      "Epoch [9/10] Batch [100/313] Loss: -2.7435\n",
      "Epoch [9/10] Batch [200/313] Loss: -2.5031\n",
      "Epoch [9/10] Batch [300/313] Loss: -2.0108\n",
      "Epoch [9/10], Average Loss: -2.4736\n",
      "Epoch [10/10] Batch [100/313] Loss: -2.6341\n",
      "Epoch [10/10] Batch [200/313] Loss: -3.0736\n",
      "Epoch [10/10] Batch [300/313] Loss: -2.7174\n",
      "Epoch [10/10], Average Loss: -2.7368\n",
      "Finished Training\n",
      "\n",
      "Test Set Performance:\n",
      "              precision    recall  f1-score   support\n",
      "\n",
      "         dog       0.82      0.94      0.88      1000\n",
      "       truck       0.93      0.79      0.86      1000\n",
      "\n",
      "    accuracy                           0.87      2000\n",
      "   macro avg       0.87      0.87      0.87      2000\n",
      "weighted avg       0.87      0.87      0.87      2000\n",
      "\n",
      "\n",
      "Training Set Performance:\n",
      "              precision    recall  f1-score   support\n",
      "\n",
      "         dog       0.83      0.94      0.88      5000\n",
      "       truck       0.93      0.80      0.86      5000\n",
      "\n",
      "    accuracy                           0.87     10000\n",
      "   macro avg       0.88      0.87      0.87     10000\n",
      "weighted avg       0.88      0.87      0.87     10000\n",
      "\n"
     ]
    },
    {
     "data": {
      "text/plain": [
       "('              precision    recall  f1-score   support\\n\\n         dog       0.82      0.94      0.88      1000\\n       truck       0.93      0.79      0.86      1000\\n\\n    accuracy                           0.87      2000\\n   macro avg       0.87      0.87      0.87      2000\\nweighted avg       0.87      0.87      0.87      2000\\n',\n",
       " '              precision    recall  f1-score   support\\n\\n         dog       0.83      0.94      0.88      5000\\n       truck       0.93      0.80      0.86      5000\\n\\n    accuracy                           0.87     10000\\n   macro avg       0.88      0.87      0.87     10000\\nweighted avg       0.88      0.87      0.87     10000\\n')"
      ]
     },
     "execution_count": 29,
     "metadata": {},
     "output_type": "execute_result"
    }
   ],
   "source": [
    "evaluate([5,9])"
   ]
  },
  {
   "cell_type": "code",
   "execution_count": 30,
   "metadata": {},
   "outputs": [
    {
     "name": "stdout",
     "output_type": "stream",
     "text": [
      "\n",
      "\n",
      "=== Evaluating classes [6, 7] ===\n",
      "Selected classes: ['frog', 'horse']\n",
      "Using device: mps\n"
     ]
    },
    {
     "name": "stderr",
     "output_type": "stream",
     "text": [
      "/var/folders/j5/xjgdn5n12cv8xt7g7_l1vp280000gn/T/ipykernel_8588/3371341144.py:15: DeprecationWarning: The class ``qiskit.primitives.estimator.Estimator`` is deprecated as of qiskit 1.2. It will be removed no earlier than 3 months after the release date. All implementations of the `BaseEstimatorV1` interface have been deprecated in favor of their V2 counterparts. The V2 alternative for the `Estimator` class is `StatevectorEstimator`.\n",
      "  estimator = Estimator()\n",
      "/var/folders/j5/xjgdn5n12cv8xt7g7_l1vp280000gn/T/ipykernel_8588/3371341144.py:16: DeprecationWarning: V1 Primitives are deprecated as of qiskit-machine-learning 0.8.0 and will be removed no sooner than 4 months after the release date. Use V2 primitives for continued compatibility and support.\n",
      "  qnn = EstimatorQNN(\n"
     ]
    },
    {
     "name": "stdout",
     "output_type": "stream",
     "text": [
      "Epoch [1/10] Batch [100/313] Loss: -0.6609\n",
      "Epoch [1/10] Batch [200/313] Loss: -0.8958\n",
      "Epoch [1/10] Batch [300/313] Loss: -1.0081\n",
      "Epoch [1/10], Average Loss: -0.7071\n",
      "Epoch [2/10] Batch [100/313] Loss: -1.0686\n",
      "Epoch [2/10] Batch [200/313] Loss: -1.0600\n",
      "Epoch [2/10] Batch [300/313] Loss: -1.0375\n",
      "Epoch [2/10], Average Loss: -0.9639\n",
      "Epoch [3/10] Batch [100/313] Loss: -1.1264\n",
      "Epoch [3/10] Batch [200/313] Loss: -1.1218\n",
      "Epoch [3/10] Batch [300/313] Loss: -1.0738\n",
      "Epoch [3/10], Average Loss: -1.2175\n",
      "Epoch [4/10] Batch [100/313] Loss: -1.5692\n",
      "Epoch [4/10] Batch [200/313] Loss: -1.4879\n",
      "Epoch [4/10] Batch [300/313] Loss: -1.5796\n",
      "Epoch [4/10], Average Loss: -1.4764\n",
      "Epoch [5/10] Batch [100/313] Loss: -1.2559\n",
      "Epoch [5/10] Batch [200/313] Loss: -1.4360\n",
      "Epoch [5/10] Batch [300/313] Loss: -2.1374\n",
      "Epoch [5/10], Average Loss: -1.7396\n",
      "Epoch [6/10] Batch [100/313] Loss: -2.1882\n",
      "Epoch [6/10] Batch [200/313] Loss: -2.2997\n",
      "Epoch [6/10] Batch [300/313] Loss: -1.9866\n",
      "Epoch [6/10], Average Loss: -1.9914\n",
      "Epoch [7/10] Batch [100/313] Loss: -1.8706\n",
      "Epoch [7/10] Batch [200/313] Loss: -2.7181\n",
      "Epoch [7/10] Batch [300/313] Loss: -2.1093\n",
      "Epoch [7/10], Average Loss: -2.2094\n",
      "Epoch [8/10] Batch [100/313] Loss: -2.0535\n",
      "Epoch [8/10] Batch [200/313] Loss: -2.4707\n",
      "Epoch [8/10] Batch [300/313] Loss: -2.6723\n",
      "Epoch [8/10], Average Loss: -2.4475\n",
      "Epoch [9/10] Batch [100/313] Loss: -2.4268\n",
      "Epoch [9/10] Batch [200/313] Loss: -3.2435\n",
      "Epoch [9/10] Batch [300/313] Loss: -3.1925\n",
      "Epoch [9/10], Average Loss: -2.6592\n",
      "Epoch [10/10] Batch [100/313] Loss: -2.4482\n",
      "Epoch [10/10] Batch [200/313] Loss: -2.4092\n",
      "Epoch [10/10] Batch [300/313] Loss: -2.6322\n",
      "Epoch [10/10], Average Loss: -2.9108\n",
      "Finished Training\n",
      "\n",
      "Test Set Performance:\n",
      "              precision    recall  f1-score   support\n",
      "\n",
      "        frog       0.86      0.73      0.79      1000\n",
      "       horse       0.77      0.88      0.82      1000\n",
      "\n",
      "    accuracy                           0.81      2000\n",
      "   macro avg       0.82      0.81      0.81      2000\n",
      "weighted avg       0.82      0.81      0.81      2000\n",
      "\n",
      "\n",
      "Training Set Performance:\n",
      "              precision    recall  f1-score   support\n",
      "\n",
      "        frog       0.87      0.74      0.80      5000\n",
      "       horse       0.77      0.89      0.83      5000\n",
      "\n",
      "    accuracy                           0.81     10000\n",
      "   macro avg       0.82      0.81      0.81     10000\n",
      "weighted avg       0.82      0.81      0.81     10000\n",
      "\n"
     ]
    },
    {
     "data": {
      "text/plain": [
       "('              precision    recall  f1-score   support\\n\\n        frog       0.86      0.73      0.79      1000\\n       horse       0.77      0.88      0.82      1000\\n\\n    accuracy                           0.81      2000\\n   macro avg       0.82      0.81      0.81      2000\\nweighted avg       0.82      0.81      0.81      2000\\n',\n",
       " '              precision    recall  f1-score   support\\n\\n        frog       0.87      0.74      0.80      5000\\n       horse       0.77      0.89      0.83      5000\\n\\n    accuracy                           0.81     10000\\n   macro avg       0.82      0.81      0.81     10000\\nweighted avg       0.82      0.81      0.81     10000\\n')"
      ]
     },
     "execution_count": 30,
     "metadata": {},
     "output_type": "execute_result"
    }
   ],
   "source": [
    "evaluate([6,7])"
   ]
  },
  {
   "cell_type": "code",
   "execution_count": 31,
   "metadata": {},
   "outputs": [
    {
     "name": "stdout",
     "output_type": "stream",
     "text": [
      "\n",
      "\n",
      "=== Evaluating classes [6, 8] ===\n",
      "Selected classes: ['frog', 'ship']\n",
      "Using device: mps\n"
     ]
    },
    {
     "name": "stderr",
     "output_type": "stream",
     "text": [
      "/var/folders/j5/xjgdn5n12cv8xt7g7_l1vp280000gn/T/ipykernel_8588/3371341144.py:15: DeprecationWarning: The class ``qiskit.primitives.estimator.Estimator`` is deprecated as of qiskit 1.2. It will be removed no earlier than 3 months after the release date. All implementations of the `BaseEstimatorV1` interface have been deprecated in favor of their V2 counterparts. The V2 alternative for the `Estimator` class is `StatevectorEstimator`.\n",
      "  estimator = Estimator()\n",
      "/var/folders/j5/xjgdn5n12cv8xt7g7_l1vp280000gn/T/ipykernel_8588/3371341144.py:16: DeprecationWarning: V1 Primitives are deprecated as of qiskit-machine-learning 0.8.0 and will be removed no sooner than 4 months after the release date. Use V2 primitives for continued compatibility and support.\n",
      "  qnn = EstimatorQNN(\n"
     ]
    },
    {
     "name": "stdout",
     "output_type": "stream",
     "text": [
      "Epoch [1/10] Batch [100/313] Loss: -0.7411\n",
      "Epoch [1/10] Batch [200/313] Loss: -0.9070\n",
      "Epoch [1/10] Batch [300/313] Loss: -0.7646\n",
      "Epoch [1/10], Average Loss: -0.6029\n",
      "Epoch [2/10] Batch [100/313] Loss: -0.8098\n",
      "Epoch [2/10] Batch [200/313] Loss: -0.8396\n",
      "Epoch [2/10] Batch [300/313] Loss: -1.2391\n",
      "Epoch [2/10], Average Loss: -0.8740\n",
      "Epoch [3/10] Batch [100/313] Loss: -1.4234\n",
      "Epoch [3/10] Batch [200/313] Loss: -1.2327\n",
      "Epoch [3/10] Batch [300/313] Loss: -1.4500\n",
      "Epoch [3/10], Average Loss: -1.1383\n",
      "Epoch [4/10] Batch [100/313] Loss: -1.3395\n",
      "Epoch [4/10] Batch [200/313] Loss: -1.3327\n",
      "Epoch [4/10] Batch [300/313] Loss: -1.1613\n",
      "Epoch [4/10], Average Loss: -1.3846\n",
      "Epoch [5/10] Batch [100/313] Loss: -1.4928\n",
      "Epoch [5/10] Batch [200/313] Loss: -1.8813\n",
      "Epoch [5/10] Batch [300/313] Loss: -1.7059\n",
      "Epoch [5/10], Average Loss: -1.6446\n",
      "Epoch [6/10] Batch [100/313] Loss: -1.7730\n",
      "Epoch [6/10] Batch [200/313] Loss: -1.6649\n",
      "Epoch [6/10] Batch [300/313] Loss: -2.0385\n",
      "Epoch [6/10], Average Loss: -1.9028\n",
      "Epoch [7/10] Batch [100/313] Loss: -2.2023\n",
      "Epoch [7/10] Batch [200/313] Loss: -2.7205\n",
      "Epoch [7/10] Batch [300/313] Loss: -2.6858\n",
      "Epoch [7/10], Average Loss: -2.1605\n",
      "Epoch [8/10] Batch [100/313] Loss: -3.5435\n",
      "Epoch [8/10] Batch [200/313] Loss: -2.3647\n",
      "Epoch [8/10] Batch [300/313] Loss: -2.0275\n",
      "Epoch [8/10], Average Loss: -2.3670\n",
      "Epoch [9/10] Batch [100/313] Loss: -2.8408\n",
      "Epoch [9/10] Batch [200/313] Loss: -2.3588\n",
      "Epoch [9/10] Batch [300/313] Loss: -2.5249\n",
      "Epoch [9/10], Average Loss: -2.6238\n",
      "Epoch [10/10] Batch [100/313] Loss: -2.8186\n",
      "Epoch [10/10] Batch [200/313] Loss: -3.6024\n",
      "Epoch [10/10] Batch [300/313] Loss: -2.5435\n",
      "Epoch [10/10], Average Loss: -2.8689\n",
      "Finished Training\n",
      "\n",
      "Test Set Performance:\n",
      "              precision    recall  f1-score   support\n",
      "\n",
      "        frog       0.92      0.83      0.87      1000\n",
      "        ship       0.85      0.92      0.88      1000\n",
      "\n",
      "    accuracy                           0.88      2000\n",
      "   macro avg       0.88      0.88      0.88      2000\n",
      "weighted avg       0.88      0.88      0.88      2000\n",
      "\n",
      "\n",
      "Training Set Performance:\n",
      "              precision    recall  f1-score   support\n",
      "\n",
      "        frog       0.93      0.85      0.89      5000\n",
      "        ship       0.86      0.93      0.90      5000\n",
      "\n",
      "    accuracy                           0.89     10000\n",
      "   macro avg       0.89      0.89      0.89     10000\n",
      "weighted avg       0.89      0.89      0.89     10000\n",
      "\n"
     ]
    },
    {
     "data": {
      "text/plain": [
       "('              precision    recall  f1-score   support\\n\\n        frog       0.92      0.83      0.87      1000\\n        ship       0.85      0.92      0.88      1000\\n\\n    accuracy                           0.88      2000\\n   macro avg       0.88      0.88      0.88      2000\\nweighted avg       0.88      0.88      0.88      2000\\n',\n",
       " '              precision    recall  f1-score   support\\n\\n        frog       0.93      0.85      0.89      5000\\n        ship       0.86      0.93      0.90      5000\\n\\n    accuracy                           0.89     10000\\n   macro avg       0.89      0.89      0.89     10000\\nweighted avg       0.89      0.89      0.89     10000\\n')"
      ]
     },
     "execution_count": 31,
     "metadata": {},
     "output_type": "execute_result"
    }
   ],
   "source": [
    "evaluate([6,8])"
   ]
  },
  {
   "cell_type": "code",
   "execution_count": 32,
   "metadata": {},
   "outputs": [
    {
     "name": "stdout",
     "output_type": "stream",
     "text": [
      "\n",
      "\n",
      "=== Evaluating classes [6, 9] ===\n",
      "Selected classes: ['frog', 'truck']\n",
      "Using device: mps\n"
     ]
    },
    {
     "name": "stderr",
     "output_type": "stream",
     "text": [
      "/var/folders/j5/xjgdn5n12cv8xt7g7_l1vp280000gn/T/ipykernel_8588/3371341144.py:15: DeprecationWarning: The class ``qiskit.primitives.estimator.Estimator`` is deprecated as of qiskit 1.2. It will be removed no earlier than 3 months after the release date. All implementations of the `BaseEstimatorV1` interface have been deprecated in favor of their V2 counterparts. The V2 alternative for the `Estimator` class is `StatevectorEstimator`.\n",
      "  estimator = Estimator()\n",
      "/var/folders/j5/xjgdn5n12cv8xt7g7_l1vp280000gn/T/ipykernel_8588/3371341144.py:16: DeprecationWarning: V1 Primitives are deprecated as of qiskit-machine-learning 0.8.0 and will be removed no sooner than 4 months after the release date. Use V2 primitives for continued compatibility and support.\n",
      "  qnn = EstimatorQNN(\n"
     ]
    },
    {
     "name": "stdout",
     "output_type": "stream",
     "text": [
      "Epoch [1/10] Batch [100/313] Loss: -0.6029\n",
      "Epoch [1/10] Batch [200/313] Loss: -0.7375\n",
      "Epoch [1/10] Batch [300/313] Loss: -0.7231\n",
      "Epoch [1/10], Average Loss: -0.7192\n",
      "Epoch [2/10] Batch [100/313] Loss: -0.8982\n",
      "Epoch [2/10] Batch [200/313] Loss: -1.0058\n",
      "Epoch [2/10] Batch [300/313] Loss: -1.2510\n",
      "Epoch [2/10], Average Loss: -0.9981\n",
      "Epoch [3/10] Batch [100/313] Loss: -0.9568\n",
      "Epoch [3/10] Batch [200/313] Loss: -1.5331\n",
      "Epoch [3/10] Batch [300/313] Loss: -1.5275\n",
      "Epoch [3/10], Average Loss: -1.2653\n",
      "Epoch [4/10] Batch [100/313] Loss: -1.4315\n",
      "Epoch [4/10] Batch [200/313] Loss: -1.3644\n",
      "Epoch [4/10] Batch [300/313] Loss: -1.8838\n",
      "Epoch [4/10], Average Loss: -1.5258\n",
      "Epoch [5/10] Batch [100/313] Loss: -1.5035\n",
      "Epoch [5/10] Batch [200/313] Loss: -1.9058\n",
      "Epoch [5/10] Batch [300/313] Loss: -2.1828\n",
      "Epoch [5/10], Average Loss: -1.7888\n",
      "Epoch [6/10] Batch [100/313] Loss: -2.0794\n",
      "Epoch [6/10] Batch [200/313] Loss: -1.5438\n",
      "Epoch [6/10] Batch [300/313] Loss: -2.2289\n",
      "Epoch [6/10], Average Loss: -2.0109\n",
      "Epoch [7/10] Batch [100/313] Loss: -2.3557\n",
      "Epoch [7/10] Batch [200/313] Loss: -2.2623\n",
      "Epoch [7/10] Batch [300/313] Loss: -2.0541\n",
      "Epoch [7/10], Average Loss: -2.2809\n",
      "Epoch [8/10] Batch [100/313] Loss: -2.5324\n",
      "Epoch [8/10] Batch [200/313] Loss: -2.2137\n",
      "Epoch [8/10] Batch [300/313] Loss: -2.6266\n",
      "Epoch [8/10], Average Loss: -2.4805\n",
      "Epoch [9/10] Batch [100/313] Loss: -3.1567\n",
      "Epoch [9/10] Batch [200/313] Loss: -3.1917\n",
      "Epoch [9/10] Batch [300/313] Loss: -2.5512\n",
      "Epoch [9/10], Average Loss: -2.7326\n",
      "Epoch [10/10] Batch [100/313] Loss: -2.9419\n",
      "Epoch [10/10] Batch [200/313] Loss: -3.1260\n",
      "Epoch [10/10] Batch [300/313] Loss: -2.9259\n",
      "Epoch [10/10], Average Loss: -2.9774\n",
      "Finished Training\n",
      "\n",
      "Test Set Performance:\n",
      "              precision    recall  f1-score   support\n",
      "\n",
      "        frog       0.85      0.87      0.86      1000\n",
      "       truck       0.86      0.84      0.85      1000\n",
      "\n",
      "    accuracy                           0.85      2000\n",
      "   macro avg       0.86      0.85      0.85      2000\n",
      "weighted avg       0.86      0.85      0.85      2000\n",
      "\n",
      "\n",
      "Training Set Performance:\n",
      "              precision    recall  f1-score   support\n",
      "\n",
      "        frog       0.88      0.88      0.88      5000\n",
      "       truck       0.88      0.88      0.88      5000\n",
      "\n",
      "    accuracy                           0.88     10000\n",
      "   macro avg       0.88      0.88      0.88     10000\n",
      "weighted avg       0.88      0.88      0.88     10000\n",
      "\n"
     ]
    },
    {
     "data": {
      "text/plain": [
       "('              precision    recall  f1-score   support\\n\\n        frog       0.85      0.87      0.86      1000\\n       truck       0.86      0.84      0.85      1000\\n\\n    accuracy                           0.85      2000\\n   macro avg       0.86      0.85      0.85      2000\\nweighted avg       0.86      0.85      0.85      2000\\n',\n",
       " '              precision    recall  f1-score   support\\n\\n        frog       0.88      0.88      0.88      5000\\n       truck       0.88      0.88      0.88      5000\\n\\n    accuracy                           0.88     10000\\n   macro avg       0.88      0.88      0.88     10000\\nweighted avg       0.88      0.88      0.88     10000\\n')"
      ]
     },
     "execution_count": 32,
     "metadata": {},
     "output_type": "execute_result"
    }
   ],
   "source": [
    "evaluate([6,9])"
   ]
  },
  {
   "cell_type": "code",
   "execution_count": 33,
   "metadata": {},
   "outputs": [
    {
     "name": "stdout",
     "output_type": "stream",
     "text": [
      "\n",
      "\n",
      "=== Evaluating classes [7, 8] ===\n",
      "Selected classes: ['horse', 'ship']\n",
      "Using device: mps\n"
     ]
    },
    {
     "name": "stderr",
     "output_type": "stream",
     "text": [
      "/var/folders/j5/xjgdn5n12cv8xt7g7_l1vp280000gn/T/ipykernel_8588/3371341144.py:15: DeprecationWarning: The class ``qiskit.primitives.estimator.Estimator`` is deprecated as of qiskit 1.2. It will be removed no earlier than 3 months after the release date. All implementations of the `BaseEstimatorV1` interface have been deprecated in favor of their V2 counterparts. The V2 alternative for the `Estimator` class is `StatevectorEstimator`.\n",
      "  estimator = Estimator()\n",
      "/var/folders/j5/xjgdn5n12cv8xt7g7_l1vp280000gn/T/ipykernel_8588/3371341144.py:16: DeprecationWarning: V1 Primitives are deprecated as of qiskit-machine-learning 0.8.0 and will be removed no sooner than 4 months after the release date. Use V2 primitives for continued compatibility and support.\n",
      "  qnn = EstimatorQNN(\n"
     ]
    },
    {
     "name": "stdout",
     "output_type": "stream",
     "text": [
      "Epoch [1/10] Batch [100/313] Loss: -0.6949\n",
      "Epoch [1/10] Batch [200/313] Loss: -0.6272\n",
      "Epoch [1/10] Batch [300/313] Loss: -0.6317\n",
      "Epoch [1/10], Average Loss: -0.6082\n",
      "Epoch [2/10] Batch [100/313] Loss: -0.8184\n",
      "Epoch [2/10] Batch [200/313] Loss: -0.7696\n",
      "Epoch [2/10] Batch [300/313] Loss: -1.0743\n",
      "Epoch [2/10], Average Loss: -0.8869\n",
      "Epoch [3/10] Batch [100/313] Loss: -1.6257\n",
      "Epoch [3/10] Batch [200/313] Loss: -1.4495\n",
      "Epoch [3/10] Batch [300/313] Loss: -1.5278\n",
      "Epoch [3/10], Average Loss: -1.4177\n",
      "Epoch [4/10] Batch [100/313] Loss: -1.7014\n",
      "Epoch [4/10] Batch [200/313] Loss: -1.5602\n",
      "Epoch [4/10] Batch [300/313] Loss: -1.8401\n",
      "Epoch [4/10], Average Loss: -1.8049\n",
      "Epoch [5/10] Batch [100/313] Loss: -2.3949\n",
      "Epoch [5/10] Batch [200/313] Loss: -1.9428\n",
      "Epoch [5/10] Batch [300/313] Loss: -2.1295\n",
      "Epoch [5/10], Average Loss: -2.1072\n",
      "Epoch [6/10] Batch [100/313] Loss: -2.3307\n",
      "Epoch [6/10] Batch [200/313] Loss: -2.3791\n",
      "Epoch [6/10] Batch [300/313] Loss: -2.9086\n",
      "Epoch [6/10], Average Loss: -2.4113\n",
      "Epoch [7/10] Batch [100/313] Loss: -2.3200\n",
      "Epoch [7/10] Batch [200/313] Loss: -2.7745\n",
      "Epoch [7/10] Batch [300/313] Loss: -2.4176\n",
      "Epoch [7/10], Average Loss: -2.6862\n",
      "Epoch [8/10] Batch [100/313] Loss: -3.2927\n",
      "Epoch [8/10] Batch [200/313] Loss: -3.0944\n",
      "Epoch [8/10] Batch [300/313] Loss: -3.1289\n",
      "Epoch [8/10], Average Loss: -2.9448\n",
      "Epoch [9/10] Batch [100/313] Loss: -2.7598\n",
      "Epoch [9/10] Batch [200/313] Loss: -3.1604\n",
      "Epoch [9/10] Batch [300/313] Loss: -3.3411\n",
      "Epoch [9/10], Average Loss: -3.2148\n",
      "Epoch [10/10] Batch [100/313] Loss: -3.5965\n",
      "Epoch [10/10] Batch [200/313] Loss: -3.4572\n",
      "Epoch [10/10] Batch [300/313] Loss: -3.7628\n",
      "Epoch [10/10], Average Loss: -3.4768\n",
      "Finished Training\n",
      "\n",
      "Test Set Performance:\n",
      "              precision    recall  f1-score   support\n",
      "\n",
      "       horse       0.89      0.91      0.90      1000\n",
      "        ship       0.91      0.89      0.90      1000\n",
      "\n",
      "    accuracy                           0.90      2000\n",
      "   macro avg       0.90      0.90      0.90      2000\n",
      "weighted avg       0.90      0.90      0.90      2000\n",
      "\n",
      "\n",
      "Training Set Performance:\n",
      "              precision    recall  f1-score   support\n",
      "\n",
      "       horse       0.90      0.93      0.91      5000\n",
      "        ship       0.92      0.90      0.91      5000\n",
      "\n",
      "    accuracy                           0.91     10000\n",
      "   macro avg       0.91      0.91      0.91     10000\n",
      "weighted avg       0.91      0.91      0.91     10000\n",
      "\n"
     ]
    },
    {
     "data": {
      "text/plain": [
       "('              precision    recall  f1-score   support\\n\\n       horse       0.89      0.91      0.90      1000\\n        ship       0.91      0.89      0.90      1000\\n\\n    accuracy                           0.90      2000\\n   macro avg       0.90      0.90      0.90      2000\\nweighted avg       0.90      0.90      0.90      2000\\n',\n",
       " '              precision    recall  f1-score   support\\n\\n       horse       0.90      0.93      0.91      5000\\n        ship       0.92      0.90      0.91      5000\\n\\n    accuracy                           0.91     10000\\n   macro avg       0.91      0.91      0.91     10000\\nweighted avg       0.91      0.91      0.91     10000\\n')"
      ]
     },
     "execution_count": 33,
     "metadata": {},
     "output_type": "execute_result"
    }
   ],
   "source": [
    "evaluate([7,8])"
   ]
  },
  {
   "cell_type": "code",
   "execution_count": 34,
   "metadata": {},
   "outputs": [
    {
     "name": "stdout",
     "output_type": "stream",
     "text": [
      "\n",
      "\n",
      "=== Evaluating classes [7, 9] ===\n",
      "Selected classes: ['horse', 'truck']\n",
      "Using device: mps\n"
     ]
    },
    {
     "name": "stderr",
     "output_type": "stream",
     "text": [
      "/var/folders/j5/xjgdn5n12cv8xt7g7_l1vp280000gn/T/ipykernel_8588/3371341144.py:15: DeprecationWarning: The class ``qiskit.primitives.estimator.Estimator`` is deprecated as of qiskit 1.2. It will be removed no earlier than 3 months after the release date. All implementations of the `BaseEstimatorV1` interface have been deprecated in favor of their V2 counterparts. The V2 alternative for the `Estimator` class is `StatevectorEstimator`.\n",
      "  estimator = Estimator()\n",
      "/var/folders/j5/xjgdn5n12cv8xt7g7_l1vp280000gn/T/ipykernel_8588/3371341144.py:16: DeprecationWarning: V1 Primitives are deprecated as of qiskit-machine-learning 0.8.0 and will be removed no sooner than 4 months after the release date. Use V2 primitives for continued compatibility and support.\n",
      "  qnn = EstimatorQNN(\n"
     ]
    },
    {
     "name": "stdout",
     "output_type": "stream",
     "text": [
      "Epoch [1/10] Batch [100/313] Loss: -0.6600\n",
      "Epoch [1/10] Batch [200/313] Loss: -0.8659\n",
      "Epoch [1/10] Batch [300/313] Loss: -0.4018\n",
      "Epoch [1/10], Average Loss: -0.6428\n",
      "Epoch [2/10] Batch [100/313] Loss: -0.8073\n",
      "Epoch [2/10] Batch [200/313] Loss: -0.7325\n",
      "Epoch [2/10] Batch [300/313] Loss: -1.3089\n",
      "Epoch [2/10], Average Loss: -0.9170\n",
      "Epoch [3/10] Batch [100/313] Loss: -1.2982\n",
      "Epoch [3/10] Batch [200/313] Loss: -1.3010\n",
      "Epoch [3/10] Batch [300/313] Loss: -1.7838\n",
      "Epoch [3/10], Average Loss: -1.1800\n",
      "Epoch [4/10] Batch [100/313] Loss: -1.0513\n",
      "Epoch [4/10] Batch [200/313] Loss: -1.4670\n",
      "Epoch [4/10] Batch [300/313] Loss: -1.8597\n",
      "Epoch [4/10], Average Loss: -1.4190\n",
      "Epoch [5/10] Batch [100/313] Loss: -1.6549\n",
      "Epoch [5/10] Batch [200/313] Loss: -1.7037\n",
      "Epoch [5/10] Batch [300/313] Loss: -1.9362\n",
      "Epoch [5/10], Average Loss: -1.6463\n",
      "Epoch [6/10] Batch [100/313] Loss: -2.1067\n",
      "Epoch [6/10] Batch [200/313] Loss: -1.9651\n",
      "Epoch [6/10] Batch [300/313] Loss: -1.7877\n",
      "Epoch [6/10], Average Loss: -1.8669\n",
      "Epoch [7/10] Batch [100/313] Loss: -2.4509\n",
      "Epoch [7/10] Batch [200/313] Loss: -2.2996\n",
      "Epoch [7/10] Batch [300/313] Loss: -2.0754\n",
      "Epoch [7/10], Average Loss: -2.1094\n",
      "Epoch [8/10] Batch [100/313] Loss: -2.1094\n",
      "Epoch [8/10] Batch [200/313] Loss: -2.7142\n",
      "Epoch [8/10] Batch [300/313] Loss: -2.4175\n",
      "Epoch [8/10], Average Loss: -2.3228\n",
      "Epoch [9/10] Batch [100/313] Loss: -2.1952\n",
      "Epoch [9/10] Batch [200/313] Loss: -3.3049\n",
      "Epoch [9/10] Batch [300/313] Loss: -2.9408\n",
      "Epoch [9/10], Average Loss: -2.5599\n",
      "Epoch [10/10] Batch [100/313] Loss: -3.0649\n",
      "Epoch [10/10] Batch [200/313] Loss: -3.1448\n",
      "Epoch [10/10] Batch [300/313] Loss: -2.7221\n",
      "Epoch [10/10], Average Loss: -2.7488\n",
      "Finished Training\n",
      "\n",
      "Test Set Performance:\n",
      "              precision    recall  f1-score   support\n",
      "\n",
      "       horse       0.85      0.79      0.82      1000\n",
      "       truck       0.80      0.86      0.83      1000\n",
      "\n",
      "    accuracy                           0.82      2000\n",
      "   macro avg       0.82      0.82      0.82      2000\n",
      "weighted avg       0.82      0.82      0.82      2000\n",
      "\n",
      "\n",
      "Training Set Performance:\n",
      "              precision    recall  f1-score   support\n",
      "\n",
      "       horse       0.86      0.81      0.83      5000\n",
      "       truck       0.82      0.87      0.84      5000\n",
      "\n",
      "    accuracy                           0.84     10000\n",
      "   macro avg       0.84      0.84      0.84     10000\n",
      "weighted avg       0.84      0.84      0.84     10000\n",
      "\n"
     ]
    },
    {
     "data": {
      "text/plain": [
       "('              precision    recall  f1-score   support\\n\\n       horse       0.85      0.79      0.82      1000\\n       truck       0.80      0.86      0.83      1000\\n\\n    accuracy                           0.82      2000\\n   macro avg       0.82      0.82      0.82      2000\\nweighted avg       0.82      0.82      0.82      2000\\n',\n",
       " '              precision    recall  f1-score   support\\n\\n       horse       0.86      0.81      0.83      5000\\n       truck       0.82      0.87      0.84      5000\\n\\n    accuracy                           0.84     10000\\n   macro avg       0.84      0.84      0.84     10000\\nweighted avg       0.84      0.84      0.84     10000\\n')"
      ]
     },
     "execution_count": 34,
     "metadata": {},
     "output_type": "execute_result"
    }
   ],
   "source": [
    "evaluate([7,9])"
   ]
  },
  {
   "cell_type": "code",
   "execution_count": 35,
   "metadata": {},
   "outputs": [
    {
     "name": "stdout",
     "output_type": "stream",
     "text": [
      "\n",
      "\n",
      "=== Evaluating classes [8, 9] ===\n",
      "Selected classes: ['ship', 'truck']\n",
      "Using device: mps\n"
     ]
    },
    {
     "name": "stderr",
     "output_type": "stream",
     "text": [
      "/var/folders/j5/xjgdn5n12cv8xt7g7_l1vp280000gn/T/ipykernel_8588/3371341144.py:15: DeprecationWarning: The class ``qiskit.primitives.estimator.Estimator`` is deprecated as of qiskit 1.2. It will be removed no earlier than 3 months after the release date. All implementations of the `BaseEstimatorV1` interface have been deprecated in favor of their V2 counterparts. The V2 alternative for the `Estimator` class is `StatevectorEstimator`.\n",
      "  estimator = Estimator()\n",
      "/var/folders/j5/xjgdn5n12cv8xt7g7_l1vp280000gn/T/ipykernel_8588/3371341144.py:16: DeprecationWarning: V1 Primitives are deprecated as of qiskit-machine-learning 0.8.0 and will be removed no sooner than 4 months after the release date. Use V2 primitives for continued compatibility and support.\n",
      "  qnn = EstimatorQNN(\n"
     ]
    },
    {
     "name": "stdout",
     "output_type": "stream",
     "text": [
      "Epoch [1/10] Batch [100/313] Loss: -0.6149\n",
      "Epoch [1/10] Batch [200/313] Loss: -0.6670\n",
      "Epoch [1/10] Batch [300/313] Loss: -0.5796\n",
      "Epoch [1/10], Average Loss: -0.5803\n",
      "Epoch [2/10] Batch [100/313] Loss: -0.6639\n",
      "Epoch [2/10] Batch [200/313] Loss: -0.7554\n",
      "Epoch [2/10] Batch [300/313] Loss: -1.0424\n",
      "Epoch [2/10], Average Loss: -0.8269\n",
      "Epoch [3/10] Batch [100/313] Loss: -1.1226\n",
      "Epoch [3/10] Batch [200/313] Loss: -1.1181\n",
      "Epoch [3/10] Batch [300/313] Loss: -1.0158\n",
      "Epoch [3/10], Average Loss: -1.1206\n",
      "Epoch [4/10] Batch [100/313] Loss: -1.4757\n",
      "Epoch [4/10] Batch [200/313] Loss: -1.5604\n",
      "Epoch [4/10] Batch [300/313] Loss: -1.1479\n",
      "Epoch [4/10], Average Loss: -1.3625\n",
      "Epoch [5/10] Batch [100/313] Loss: -1.4153\n",
      "Epoch [5/10] Batch [200/313] Loss: -1.7031\n",
      "Epoch [5/10] Batch [300/313] Loss: -1.8447\n",
      "Epoch [5/10], Average Loss: -1.5949\n",
      "Epoch [6/10] Batch [100/313] Loss: -1.4191\n",
      "Epoch [6/10] Batch [200/313] Loss: -1.7792\n",
      "Epoch [6/10] Batch [300/313] Loss: -2.2872\n",
      "Epoch [6/10], Average Loss: -1.8452\n",
      "Epoch [7/10] Batch [100/313] Loss: -2.4048\n",
      "Epoch [7/10] Batch [200/313] Loss: -1.4281\n",
      "Epoch [7/10] Batch [300/313] Loss: -2.5598\n",
      "Epoch [7/10], Average Loss: -2.0703\n",
      "Epoch [8/10] Batch [100/313] Loss: -2.6791\n",
      "Epoch [8/10] Batch [200/313] Loss: -2.0205\n",
      "Epoch [8/10] Batch [300/313] Loss: -1.9843\n",
      "Epoch [8/10], Average Loss: -2.3204\n",
      "Epoch [9/10] Batch [100/313] Loss: -2.4003\n",
      "Epoch [9/10] Batch [200/313] Loss: -3.0108\n",
      "Epoch [9/10] Batch [300/313] Loss: -2.3582\n",
      "Epoch [9/10], Average Loss: -2.5330\n",
      "Epoch [10/10] Batch [100/313] Loss: -3.3142\n",
      "Epoch [10/10] Batch [200/313] Loss: -2.6736\n",
      "Epoch [10/10] Batch [300/313] Loss: -2.2794\n",
      "Epoch [10/10], Average Loss: -2.7964\n",
      "Finished Training\n",
      "\n",
      "Test Set Performance:\n",
      "              precision    recall  f1-score   support\n",
      "\n",
      "        ship       0.70      0.96      0.81      1000\n",
      "       truck       0.94      0.58      0.72      1000\n",
      "\n",
      "    accuracy                           0.77      2000\n",
      "   macro avg       0.82      0.77      0.76      2000\n",
      "weighted avg       0.82      0.77      0.76      2000\n",
      "\n",
      "\n",
      "Training Set Performance:\n",
      "              precision    recall  f1-score   support\n",
      "\n",
      "        ship       0.70      0.97      0.81      5000\n",
      "       truck       0.95      0.59      0.73      5000\n",
      "\n",
      "    accuracy                           0.78     10000\n",
      "   macro avg       0.83      0.78      0.77     10000\n",
      "weighted avg       0.83      0.78      0.77     10000\n",
      "\n"
     ]
    },
    {
     "data": {
      "text/plain": [
       "('              precision    recall  f1-score   support\\n\\n        ship       0.70      0.96      0.81      1000\\n       truck       0.94      0.58      0.72      1000\\n\\n    accuracy                           0.77      2000\\n   macro avg       0.82      0.77      0.76      2000\\nweighted avg       0.82      0.77      0.76      2000\\n',\n",
       " '              precision    recall  f1-score   support\\n\\n        ship       0.70      0.97      0.81      5000\\n       truck       0.95      0.59      0.73      5000\\n\\n    accuracy                           0.78     10000\\n   macro avg       0.83      0.78      0.77     10000\\nweighted avg       0.83      0.78      0.77     10000\\n')"
      ]
     },
     "execution_count": 35,
     "metadata": {},
     "output_type": "execute_result"
    }
   ],
   "source": [
    "evaluate([8,9])"
   ]
  }
 ],
 "metadata": {
  "kernelspec": {
   "display_name": "cwq",
   "language": "python",
   "name": "python3"
  },
  "language_info": {
   "codemirror_mode": {
    "name": "ipython",
    "version": 3
   },
   "file_extension": ".py",
   "mimetype": "text/x-python",
   "name": "python",
   "nbconvert_exporter": "python",
   "pygments_lexer": "ipython3",
   "version": "3.13.1"
  }
 },
 "nbformat": 4,
 "nbformat_minor": 2
}
